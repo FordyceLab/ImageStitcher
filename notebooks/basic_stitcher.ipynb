{
 "cells": [
  {
   "cell_type": "markdown",
   "metadata": {},
   "source": [
    "# Image Stitcher\n",
    "___\n",
    "**Fordyce Lab**, **2020**"
   ]
  },
  {
   "cell_type": "code",
   "execution_count": 1,
   "metadata": {},
   "outputs": [],
   "source": [
    "from imagestitcher import stitcher"
   ]
  },
  {
   "cell_type": "markdown",
   "metadata": {},
   "source": [
    "<br>\n",
    "\n",
    "## A. Define stitching settings"
   ]
  },
  {
   "cell_type": "code",
   "execution_count": 2,
   "metadata": {
    "scrolled": false
   },
   "outputs": [],
   "source": [
    "# Define flat-field paths and parameters\n",
    "setup_eGFP_ffPath = '/Setup2_FF_eGFP_500ms_2x2.tif'\n",
    "setup_ffParams = {'4egfp':{500: (-150, 16665)}}\n",
    "\n",
    "settings = stitcher.StitchingSettings(ffPaths = {},\n",
    "                                        ffParams = None,\n",
    "                                        setupNum= 4,\n",
    "                                        tileDim = 1024\n",
    "                                     )\n",
    "\n",
    "settings.showFFImages(vmin = 0, vmax = 45000)"
   ]
  },
  {
   "cell_type": "markdown",
   "metadata": {},
   "source": [
    "<br>\n",
    "\n",
    "## B. Stitch IPython Notebook images"
   ]
  },
  {
   "cell_type": "code",
   "execution_count": 3,
   "metadata": {},
   "outputs": [],
   "source": [
    "stitcher.StitchingSettings.channels.update({'Brightfield-Cube'})"
   ]
  },
  {
   "cell_type": "code",
   "execution_count": 1,
   "metadata": {
    "scrolled": false
   },
   "outputs": [],
   "source": [
    "multiImagePath = 'image-stack-root/'\n",
    "\n",
    "p = stitcher.RasterParams(0.1, rotation = 0.0, autoFF = False)\n",
    "stitcher.walkAndStitch(multiImagePath, p, stitchtype = 'single')"
   ]
  },
  {
   "cell_type": "markdown",
   "metadata": {},
   "source": [
    "<br>\n",
    "\n",
    "## C. Stitch Micro-Manager .ome.tiff images"
   ]
  },
  {
   "cell_type": "code",
   "execution_count": 4,
   "metadata": {},
   "outputs": [],
   "source": [
    "root = '/stack-parent'\n",
    "\n",
    "# Channel names from MicroManager configuration\n",
    "channelExposureMap = {'3-GFP-B': 500, '5------': 100}\n",
    "\n",
    "# Remap the names of the channels for saved filenames, if desired\n",
    "channelRemap = {'3-GFP-B': '3-GFP-B', '5------': 'Cy5'}\n",
    "\n",
    "p = stitcher.RasterParams(0.1, rotation = 0.0, autoFF = False)\n",
    "stitcher.MMStitchStacks(root,\n",
    "                        p,\n",
    "                        channelExposureMap, \n",
    "                        channelRemap = channelRemap\n",
    "                        )"
   ]
  },
  {
   "cell_type": "markdown",
   "metadata": {},
   "source": [
    "<br>\n",
    "\n",
    "## D. Background subtract"
   ]
  },
  {
   "cell_type": "markdown",
   "metadata": {},
   "source": [
    "#### Store Background images"
   ]
  },
  {
   "cell_type": "code",
   "execution_count": 19,
   "metadata": {},
   "outputs": [],
   "source": [
    "bg = stitcher.BackgroundImages()"
   ]
  },
  {
   "cell_type": "markdown",
   "metadata": {},
   "source": [
    "#### Define paths and add to the backgrounds"
   ]
  },
  {
   "cell_type": "code",
   "execution_count": 20,
   "metadata": {},
   "outputs": [],
   "source": [
    "# Reference Background Image\n",
    "backgroundsRootD1 = '~/StitchedImg_500_4egfp_0.tif'\n",
    "bg.add(backgroundsRootD1, 'd1', '4egfp', 500)"
   ]
  },
  {
   "cell_type": "markdown",
   "metadata": {},
   "source": [
    "#### Define target and execute"
   ]
  },
  {
   "cell_type": "code",
   "execution_count": 2,
   "metadata": {},
   "outputs": [],
   "source": [
    "target = '/root-path'\n",
    "bg.walkAndBGSubtract(target, 'd1', '4egfp')"
   ]
  }
 ],
 "metadata": {
  "kernelspec": {
   "display_name": "Processor",
   "language": "python",
   "name": "processor"
  },
  "language_info": {
   "codemirror_mode": {
    "name": "ipython",
    "version": 3
   },
   "file_extension": ".py",
   "mimetype": "text/x-python",
   "name": "python",
   "nbconvert_exporter": "python",
   "pygments_lexer": "ipython3",
   "version": "3.7.4"
  }
 },
 "nbformat": 4,
 "nbformat_minor": 2
}
