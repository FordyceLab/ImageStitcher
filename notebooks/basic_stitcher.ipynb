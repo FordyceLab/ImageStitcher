{
 "cells": [
  {
   "cell_type": "markdown",
   "metadata": {},
   "source": [
    "# Image Stitcher\n",
    "___\n",
    "**Fordyce Lab**, **2019**"
   ]
  },
  {
   "cell_type": "code",
   "execution_count": 1,
   "metadata": {},
   "outputs": [],
   "source": [
    "from imagestitcher import stitcher"
   ]
  },
  {
   "cell_type": "code",
   "execution_count": 2,
   "metadata": {},
   "outputs": [
    {
     "data": {
      "text/plain": [
       "'/Users/dmokhtari/Documents/GitHub/ImageStitcher/imagestitcher/stitcher.py'"
      ]
     },
     "execution_count": 2,
     "metadata": {},
     "output_type": "execute_result"
    }
   ],
   "source": [
    "stitcher.__file__"
   ]
  },
  {
   "cell_type": "markdown",
   "metadata": {},
   "source": [
    "<br>\n",
    "\n",
    "## A. Define stitching settings"
   ]
  },
  {
   "cell_type": "code",
   "execution_count": 3,
   "metadata": {
    "scrolled": false
   },
   "outputs": [],
   "source": [
    "# Define flat-field paths and parameters\n",
    "# setup_eGFP_ffPath = '/Setup2_FF_eGFP_500ms_2x2.tif'\n",
    "# setup_ffParams = {'4egfp':{500: (-150, 16665)}}\n",
    "\n",
    "settings = stitcher.StitchingSettings(ffPaths = {},\n",
    "                                        ffParams = None,\n",
    "                                        setupNum= 4,\n",
    "                                        tileDim = 1024\n",
    "                                     )\n",
    "\n",
    "settings.showFFImages(vmin = 0, vmax = 45000)"
   ]
  },
  {
   "cell_type": "markdown",
   "metadata": {},
   "source": [
    "<br>\n",
    "\n",
    "## B. Stitch IPython Notebook images"
   ]
  },
  {
   "cell_type": "code",
   "execution_count": 5,
   "metadata": {},
   "outputs": [],
   "source": [
    "stitcher.StitchingSettings.channels.update({'Brightfield-Cube'})"
   ]
  },
  {
   "cell_type": "code",
   "execution_count": 6,
   "metadata": {
    "scrolled": false
   },
   "outputs": [
    {
     "name": "stderr",
     "output_type": "stream",
     "text": [
      "Stitching Kinetics | 20191213_164258_activity_assay: 100%|██████████| 13/13 [01:09<00:00,  5.37s/it]\n"
     ]
    }
   ],
   "source": [
    "multiImagePath = '/Volumes/groups/pfordyce/data-workspace/personal/batsavapranee/191213/20191213_164258_activity_assay/Brightfield-Cube'\n",
    "\n",
    "p = stitcher.RasterParams(multiImagePath, 0.1, 4, autoFF = False)\n",
    "\n",
    "stitcher.walkAndStitch(multiImagePath, p, stitchtype = 'kinetic')\n",
    "# Alternate stitchtype = 'single'"
   ]
  },
  {
   "cell_type": "markdown",
   "metadata": {},
   "source": [
    "<br>\n",
    "\n",
    "## C. Stitch Micro-Manager .ome.tiff images"
   ]
  },
  {
   "cell_type": "code",
   "execution_count": 4,
   "metadata": {},
   "outputs": [],
   "source": [
    "overlap = 0.1\n",
    "setup = 2\n",
    "autoFF = False\n",
    "\n",
    "root = '/stack-parent'\n",
    "\n",
    " # Channel names from MicroManager configuration\n",
    "channelExposureMap = {'3-GFP-B': 500, '5------': 100}\n",
    "\n",
    "# Remap the names of the channels for saved filenames, if desired\n",
    "channelRemap = {'3-GFP-B': '3-GFP-B', '5------': 'Cy5'}\n",
    "\n",
    "stitcher.MMStitchStacks(root, \n",
    "                        overlap, \n",
    "                        setup, \n",
    "                        channelExposureMap, \n",
    "                        channelRemap = channelRemap,\n",
    "                        autoFF= False\n",
    "                        )"
   ]
  },
  {
   "cell_type": "markdown",
   "metadata": {},
   "source": [
    "<br>\n",
    "\n",
    "## D. Background subtract"
   ]
  },
  {
   "cell_type": "markdown",
   "metadata": {},
   "source": [
    "#### Store Background images"
   ]
  },
  {
   "cell_type": "code",
   "execution_count": 19,
   "metadata": {},
   "outputs": [],
   "source": [
    "bg = stitcher.BackgroundImages()"
   ]
  },
  {
   "cell_type": "markdown",
   "metadata": {},
   "source": [
    "#### Define paths and add to the backgrounds"
   ]
  },
  {
   "cell_type": "code",
   "execution_count": 20,
   "metadata": {},
   "outputs": [],
   "source": [
    "# Reference Background Image\n",
    "backgroundsRootD1 = '~/StitchedImg_500_4egfp_0.tif'\n",
    "bg.add(backgroundsRootD1, 'd1', '4egfp', 500)"
   ]
  },
  {
   "cell_type": "markdown",
   "metadata": {},
   "source": [
    "#### Define target and execute"
   ]
  },
  {
   "cell_type": "code",
   "execution_count": 2,
   "metadata": {},
   "outputs": [],
   "source": [
    "target = '/root-path'\n",
    "bg.walkAndBGSubtract(targetRoot, 'd2', '4egfp')"
   ]
  },
  {
   "cell_type": "markdown",
   "metadata": {},
   "source": [
    "<br>\n",
    "\n",
    "## E. \"Specialty\" stitching (HT-MEK specific)"
   ]
  },
  {
   "cell_type": "markdown",
   "metadata": {},
   "source": [
    "#### Standard Curve"
   ]
  },
  {
   "cell_type": "code",
   "execution_count": 35,
   "metadata": {},
   "outputs": [
    {
     "name": "stderr",
     "output_type": "stream",
     "text": [
      "Stitching Standard: 100%|██████████| 7/7 [00:05<00:00,  1.37it/s]\n"
     ]
    }
   ],
   "source": [
    "path = '/Standards/d1_cMU'\n",
    "\n",
    "handles = [('0uM_cMU', 0), \n",
    "           ('2uM_cMU', 2), \n",
    "           ('5uM_cMU', 5), \n",
    "           ('10uM_cMU', 10), \n",
    "           ('25uM_cMU', 25), \n",
    "           ('50uM_cMU', 50), \n",
    "           ('100uM_cMU', 100)]\n",
    "\n",
    "params = stitcher.RasterParams(path, 'ipnb', 0.1, 200, '3dapi', 3, autoFF = False)\n",
    "\n",
    "stitcher.stitchStandard(path, params, handles)"
   ]
  }
 ],
 "metadata": {
  "kernelspec": {
   "display_name": "Processor",
   "language": "python",
   "name": "processor"
  },
  "language_info": {
   "codemirror_mode": {
    "name": "ipython",
    "version": 3
   },
   "file_extension": ".py",
   "mimetype": "text/x-python",
   "name": "python",
   "nbconvert_exporter": "python",
   "pygments_lexer": "ipython3",
   "version": "3.7.4"
  }
 },
 "nbformat": 4,
 "nbformat_minor": 2
}
