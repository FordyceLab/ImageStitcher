{
 "cells": [
  {
   "cell_type": "markdown",
   "metadata": {},
   "source": [
    "# Image Stitcher\n",
    "___\n",
    "**Fordyce Lab**, **2018**"
   ]
  },
  {
   "cell_type": "markdown",
   "metadata": {},
   "source": [
    "## Imports"
   ]
  },
  {
   "cell_type": "code",
   "execution_count": 1,
   "metadata": {},
   "outputs": [],
   "source": [
    "%load_ext autoreload\n",
    "%autoreload 2"
   ]
  },
  {
   "cell_type": "code",
   "execution_count": 2,
   "metadata": {},
   "outputs": [],
   "source": [
    "import sys\n",
    "import pandas as pd\n",
    "\n",
    "sys.path.insert(0, '/home/eMITOMI/Analysis_Pipelines/common/GithubRepos/ImageStitcher/')\n",
    "from imagestitcher import stitcher"
   ]
  },
  {
   "cell_type": "markdown",
   "metadata": {},
   "source": [
    "## FF Corrections"
   ]
  },
  {
   "cell_type": "code",
   "execution_count": 3,
   "metadata": {},
   "outputs": [
    {
     "data": {
      "text/html": [
       "<div>\n",
       "<style scoped>\n",
       "    .dataframe tbody tr th:only-of-type {\n",
       "        vertical-align: middle;\n",
       "    }\n",
       "\n",
       "    .dataframe tbody tr th {\n",
       "        vertical-align: top;\n",
       "    }\n",
       "\n",
       "    .dataframe thead th {\n",
       "        text-align: right;\n",
       "    }\n",
       "</style>\n",
       "<table border=\"1\" class=\"dataframe\">\n",
       "  <thead>\n",
       "    <tr style=\"text-align: right;\">\n",
       "      <th></th>\n",
       "      <th>FFDate</th>\n",
       "      <th>Setup</th>\n",
       "      <th>TargetExposure(ms)</th>\n",
       "      <th>FFDarkVal</th>\n",
       "      <th>FFScale</th>\n",
       "      <th>FFImageExposure(ms)</th>\n",
       "    </tr>\n",
       "  </thead>\n",
       "  <tbody>\n",
       "    <tr>\n",
       "      <th>0</th>\n",
       "      <td>180324</td>\n",
       "      <td>2</td>\n",
       "      <td>500</td>\n",
       "      <td>-150</td>\n",
       "      <td>16665</td>\n",
       "      <td>2000</td>\n",
       "    </tr>\n",
       "    <tr>\n",
       "      <th>1</th>\n",
       "      <td>180324</td>\n",
       "      <td>2</td>\n",
       "      <td>2000</td>\n",
       "      <td>805</td>\n",
       "      <td>15577</td>\n",
       "      <td>2000</td>\n",
       "    </tr>\n",
       "    <tr>\n",
       "      <th>2</th>\n",
       "      <td>180401</td>\n",
       "      <td>3</td>\n",
       "      <td>500</td>\n",
       "      <td>201</td>\n",
       "      <td>21663</td>\n",
       "      <td>4000</td>\n",
       "    </tr>\n",
       "    <tr>\n",
       "      <th>3</th>\n",
       "      <td>180401</td>\n",
       "      <td>3</td>\n",
       "      <td>2000</td>\n",
       "      <td>2778</td>\n",
       "      <td>19086</td>\n",
       "      <td>4000</td>\n",
       "    </tr>\n",
       "    <tr>\n",
       "      <th>4</th>\n",
       "      <td>180324</td>\n",
       "      <td>4</td>\n",
       "      <td>500</td>\n",
       "      <td>226</td>\n",
       "      <td>12950</td>\n",
       "      <td>2000</td>\n",
       "    </tr>\n",
       "    <tr>\n",
       "      <th>5</th>\n",
       "      <td>180324</td>\n",
       "      <td>4</td>\n",
       "      <td>2000</td>\n",
       "      <td>0</td>\n",
       "      <td>13176</td>\n",
       "      <td>2000</td>\n",
       "    </tr>\n",
       "  </tbody>\n",
       "</table>\n",
       "</div>"
      ],
      "text/plain": [
       "   FFDate  Setup  TargetExposure(ms)  FFDarkVal  FFScale  FFImageExposure(ms)\n",
       "0  180324      2                 500       -150    16665                 2000\n",
       "1  180324      2                2000        805    15577                 2000\n",
       "2  180401      3                 500        201    21663                 4000\n",
       "3  180401      3                2000       2778    19086                 4000\n",
       "4  180324      4                 500        226    12950                 2000\n",
       "5  180324      4                2000          0    13176                 2000"
      ]
     },
     "execution_count": 3,
     "metadata": {},
     "output_type": "execute_result"
    }
   ],
   "source": [
    "ffParamsPath = '/home/eMITOMI/Support_Data/FF_Correction/FFCorrectionVals.csv'\n",
    "ffParams = pd.read_csv(ffParamsPath)\n",
    "\n",
    "ffParams[['FFDate', 'Setup', 'TargetExposure(ms)', 'FFDarkVal', 'FFScale', 'FFImageExposure(ms)']]"
   ]
  },
  {
   "cell_type": "markdown",
   "metadata": {},
   "source": [
    "## Stitching Settings"
   ]
  },
  {
   "cell_type": "code",
   "execution_count": 4,
   "metadata": {
    "scrolled": true
   },
   "outputs": [
    {
     "data": {
      "image/png": "[encoded data removed]",
      "text/plain": [
       "<matplotlib.figure.Figure at 0x7f64bb913940>"
      ]
     },
     "metadata": {},
     "output_type": "display_data"
    }
   ],
   "source": [
    "# Setup 4\n",
    "setup_4_ffPath = '/home/eMITOMI/Support_Data/FF_Correction/Setup4/180324_Setup4_FF_eGFP_2000ms_2x2.tif'\n",
    "setup_4_ffParams = {'4egfp':{500: (226, 12950), 2000: (0, 13176)}}\n",
    "\n",
    "# Setup 3\n",
    "setup_3_ffPath = '/home/eMITOMI/Support_Data/FF_Correction/Setup3/180401_Setup3_FFcorr_eGFP_4s_2x2.tif'\n",
    "setup_3_ffParams = {'4egfp':{500: (201, 21663), 2000: (2778, 19086)}}\n",
    "\n",
    "# Setup 2\n",
    "setup_2_ffPath = '/home/eMITOMI/Support_Data/FF_Correction/Setup2/180324_Setup2_FF_eGFP_2000ms_2x2.tif'\n",
    "setup_2_ffParams = {'4egfp':{500: (-150, 16665), 2000: (805, 15577)}}\n",
    "\n",
    "settings = stitcher.StitchingSettings(ffPaths = {'4egfp': setup_2_ffPath},\n",
    "                                        ffParams = setup_2_ffParams,\n",
    "                                        setupNum= 2,\n",
    "                                        tileDim = 1024\n",
    "                                     )\n",
    "\n",
    "settings.showFFImages(vmin = 0, vmax = 45000)"
   ]
  },
  {
   "cell_type": "markdown",
   "metadata": {},
   "source": [
    "## Single Image Stitching"
   ]
  },
  {
   "cell_type": "code",
   "execution_count": 6,
   "metadata": {
    "scrolled": true
   },
   "outputs": [
    {
     "name": "stderr",
     "output_type": "stream",
     "text": [
      "18-06-17 23:54:02 INFO     Stitching images | Ch: GFP, Exp: [500, 2000], Overlap: 0.1, Rot: 0\n",
      "18-06-17 23:54:03 INFO     Flat-Field Corrected Image | Ch: GFP, Exp: 500\n",
      "18-06-17 23:54:06 INFO     Flat-Field Corrected Image | Ch: GFP, Exp: 2000\n"
     ]
    }
   ],
   "source": [
    "path = '/media/dmokhtari/Atlas-HDD/eMITOMI_Workup/Setup2/180614_NewPipeline/Backgrounds/20180614-160250-d2_Background_3/4egfp/20180614-160250_Background_3_4egfp'\n",
    "\n",
    "params = stitcher.RasterParams(path, 'ipnb', 0.1, [500, 2000], '4egfp', 2, autoFF = True)\n",
    "stitcher.stitchImage(path, params)"
   ]
  },
  {
   "cell_type": "markdown",
   "metadata": {},
   "source": [
    "## Kinetic Images Stitching"
   ]
  },
  {
   "cell_type": "code",
   "execution_count": null,
   "metadata": {
    "scrolled": true
   },
   "outputs": [],
   "source": [
    "kineticPath = ''\n",
    "\n",
    "p = stitcher.RasterParams(kineticPath, 'ipnb', 0.1, None, '3dapi', 4, autoFF = False)\n",
    "stitcher.stitchKinetics(kineticPath, p)"
   ]
  },
  {
   "cell_type": "markdown",
   "metadata": {},
   "source": [
    "## Multi-Folder Stitching"
   ]
  },
  {
   "cell_type": "code",
   "execution_count": 5,
   "metadata": {
    "scrolled": true
   },
   "outputs": [
    {
     "name": "stderr",
     "output_type": "stream",
     "text": [
      "18-06-18 00:13:55 INFO     Stitching images | Ch: 4egfp, Exp: 500, Overlap: 0.1, Rot: 0\n",
      "18-06-18 00:13:56 INFO     Flat-Field Corrected Image | Ch: 4egfp, Exp: 500\n",
      "18-06-18 00:13:56 INFO     Stitching images | Ch: 4egfp, Exp: 500, Overlap: 0.1, Rot: 0\n",
      "18-06-18 00:13:57 INFO     Flat-Field Corrected Image | Ch: 4egfp, Exp: 500\n",
      "18-06-18 00:13:57 INFO     Stitching images | Ch: 4egfp, Exp: 500, Overlap: 0.1, Rot: 0\n",
      "18-06-18 00:13:58 INFO     Flat-Field Corrected Image | Ch: 4egfp, Exp: 500\n",
      "18-06-18 00:13:58 INFO     Stitching images | Ch: 4egfp, Exp: 500, Overlap: 0.1, Rot: 0\n",
      "18-06-18 00:13:59 INFO     Flat-Field Corrected Image | Ch: 4egfp, Exp: 500\n",
      "18-06-18 00:13:59 INFO     Stitching images | Ch: 4egfp, Exp: 500, Overlap: 0.1, Rot: 0\n",
      "18-06-18 00:14:00 INFO     Flat-Field Corrected Image | Ch: 4egfp, Exp: 500\n",
      "18-06-18 00:14:00 INFO     Stitching images | Ch: 4egfp, Exp: 500, Overlap: 0.1, Rot: 0\n",
      "18-06-18 00:14:01 INFO     Flat-Field Corrected Image | Ch: 4egfp, Exp: 500\n",
      "18-06-18 00:14:01 INFO     Stitching images | Ch: 4egfp, Exp: 500, Overlap: 0.1, Rot: 0\n",
      "18-06-18 00:14:02 INFO     Flat-Field Corrected Image | Ch: 4egfp, Exp: 500\n"
     ]
    }
   ],
   "source": [
    "multiImagePath = '/media/dmokhtari/Atlas-HDD/eMITOMI_Workup/Setup2/180614_NewPipeline/Assays/d1_cMUP/ButtonQuants'\n",
    "\n",
    "p = stitcher.RasterParams(multiImagePath, 'ipnb', 0.1, 500, '4egfp', 2, autoFF = True)\n",
    "stitcher.walkAndStitch(multiImagePath, p, stitchtype = 'single')"
   ]
  },
  {
   "cell_type": "markdown",
   "metadata": {},
   "source": [
    "## BG Subtract"
   ]
  },
  {
   "cell_type": "markdown",
   "metadata": {},
   "source": [
    "##### Hold the BG Images"
   ]
  },
  {
   "cell_type": "code",
   "execution_count": 16,
   "metadata": {},
   "outputs": [],
   "source": [
    "bg = stitcher.BackgroundImages()"
   ]
  },
  {
   "cell_type": "markdown",
   "metadata": {},
   "source": [
    "###### Define Paths"
   ]
  },
  {
   "cell_type": "code",
   "execution_count": 17,
   "metadata": {},
   "outputs": [],
   "source": [
    "# Reference Background Images\n",
    "backgroundsRootD1 = '/media/dmokhtari/Atlas-HDD/eMITOMI_Workup/Setup2/180614_NewPipeline/Backgrounds/20180614-154338-d1_Background/4egfp/StitchedImages/StitchedImage_500_GFP_0.tif'\n",
    "backgroundsRootD2 = '/media/dmokhtari/Atlas-HDD/eMITOMI_Workup/Setup2/180614_NewPipeline/Backgrounds/20180614-160250-d2_Background_3/4egfp/StitchedImages/StitchedImage_500_GFP_0.tif'"
   ]
  },
  {
   "cell_type": "markdown",
   "metadata": {},
   "source": [
    "##### Add the Images"
   ]
  },
  {
   "cell_type": "code",
   "execution_count": 18,
   "metadata": {},
   "outputs": [],
   "source": [
    "bg.add(backgroundsRootD1, 'd1', '4egfp', 500)\n",
    "bg.add(backgroundsRootD2, 'd2', '4egfp', 500)"
   ]
  },
  {
   "cell_type": "markdown",
   "metadata": {},
   "source": [
    "##### Define Target"
   ]
  },
  {
   "cell_type": "code",
   "execution_count": 19,
   "metadata": {},
   "outputs": [],
   "source": [
    "# target = '/home/eMITOMI/Analysis_Pipelines/common/ProcessorPack/Testing/180528_S3/Assays/d1_cMUP/Button_Quants/20180529-001827-d1_10uM_cMUP_PreAssay_ButtonQuant/4egfp/StitchedImages/StitchedImg_500_GFP_0.tif'\n",
    "targetRoot = '/media/dmokhtari/Atlas-HDD/eMITOMI_Workup/Setup2/180614_NewPipeline/Assays/d2_MecMUP/ButtonQuants/'"
   ]
  },
  {
   "cell_type": "markdown",
   "metadata": {},
   "source": [
    "###### Execute"
   ]
  },
  {
   "cell_type": "code",
   "execution_count": 20,
   "metadata": {},
   "outputs": [
    {
     "name": "stderr",
     "output_type": "stream",
     "text": [
      "18-06-18 01:01:44 INFO     Background Subtracting | Ch: 4egfp, Ex: 500, Index: d2\n",
      "18-06-18 01:01:45 INFO     Background Subtracting | Ch: 4egfp, Ex: 500, Index: d2\n",
      "18-06-18 01:01:46 INFO     Background Subtracting | Ch: 4egfp, Ex: 500, Index: d2\n",
      "18-06-18 01:01:48 INFO     Background Subtracting | Ch: 4egfp, Ex: 500, Index: d2\n"
     ]
    }
   ],
   "source": [
    "bg.walkAndBGSubtract(targetRoot, 'd2', '4egfp')"
   ]
  }
 ],
 "metadata": {
  "kernelspec": {
   "display_name": "Python [conda env:eMITOMI_ImageStitcher]",
   "language": "python",
   "name": "conda-env-eMITOMI_ImageStitcher-py"
  },
  "language_info": {
   "codemirror_mode": {
    "name": "ipython",
    "version": 3
   },
   "file_extension": ".py",
   "mimetype": "text/x-python",
   "name": "python",
   "nbconvert_exporter": "python",
   "pygments_lexer": "ipython3",
   "version": "3.6.3"
  }
 },
 "nbformat": 4,
 "nbformat_minor": 2
}
