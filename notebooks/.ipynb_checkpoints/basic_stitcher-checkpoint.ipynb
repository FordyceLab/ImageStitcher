{
 "cells": [
  {
   "cell_type": "markdown",
   "metadata": {},
   "source": [
    "# Image Stitcher\n",
    "___\n",
    "**Fordyce Lab**, **2019**"
   ]
  },
  {
   "cell_type": "markdown",
   "metadata": {},
   "source": [
    "## Imports"
   ]
  },
  {
   "cell_type": "code",
   "execution_count": 1,
   "metadata": {},
   "outputs": [
    {
     "name": "stdout",
     "output_type": "stream",
     "text": [
      "/Users/dmokhtari/Documents/Stanford/Software/Packages/ImageStitcher/imagestitcher/stitcher.py\n"
     ]
    }
   ],
   "source": [
    "import pandas as pd\n",
    "from imagestitcher import stitcher\n",
    "\n",
    "print(stitcher.__file__)"
   ]
  },
  {
   "cell_type": "markdown",
   "metadata": {},
   "source": [
    "## FF Corrections"
   ]
  },
  {
   "cell_type": "code",
   "execution_count": 2,
   "metadata": {},
   "outputs": [],
   "source": [
    "# ffParamsPath = '/home/eMITOMI/Support_Data/FF_Correction/FFCorrectionVals.csv'\n",
    "# ffParams = pd.read_csv(ffParamsPath)\n",
    "\n",
    "# ffParams[['FFDate', 'Setup', 'TargetExposure(ms)', 'FFDarkVal', 'FFScale', 'FFImageExposure(ms)']]"
   ]
  },
  {
   "cell_type": "markdown",
   "metadata": {},
   "source": [
    "## Stitching Settings"
   ]
  },
  {
   "cell_type": "code",
   "execution_count": 3,
   "metadata": {
    "scrolled": false
   },
   "outputs": [],
   "source": [
    "# # Setup 4\n",
    "# setup_4_ffPath = '/home/eMITOMI/Support_Data/FF_Correction/Setup4/180324_Setup4_FF_eGFP_2000ms_2x2.tif'\n",
    "# setup_4_ffParams = {'4egfp':{500: (226, 12950), 2000: (0, 13176)}}\n",
    "\n",
    "# # Setup 3\n",
    "# setup_3_ffPath = '/home/eMITOMI/Support_Data/FF_Correction/Setup3/180401_Setup3_FFcorr_eGFP_4s_2x2.tif'\n",
    "# setup_3_ffParams = {'4egfp':{500: (201, 21663), 2000: (2778, 19086)}}\n",
    "\n",
    "# # Setup 2\n",
    "# setup_2_ffPath = '/home/eMITOMI/Support_Data/FF_Correction/Setup2/180324_Setup2_FF_eGFP_2000ms_2x2.tif'\n",
    "# setup_2_ffParams = {'4egfp':{500: (-150, 16665), 2000: (805, 15577)}}\n",
    "\n",
    "settings = stitcher.StitchingSettings(ffPaths = {},\n",
    "                                        ffParams = None,\n",
    "                                        setupNum= 4,\n",
    "                                        tileDim = 1024\n",
    "                                     )\n",
    "\n",
    "settings.showFFImages(vmin = 0, vmax = 45000)"
   ]
  },
  {
   "cell_type": "markdown",
   "metadata": {},
   "source": [
    "## I-Python Notebook Stitching"
   ]
  },
  {
   "cell_type": "code",
   "execution_count": 8,
   "metadata": {
    "scrolled": false
   },
   "outputs": [
    {
     "name": "stderr",
     "output_type": "stream",
     "text": [
      "Stitching Kinetics | thermolysin-for-stitch: 100%|██████████| 9/9 [00:29<00:00,  3.27s/it]\n"
     ]
    }
   ],
   "source": [
    "multiImagePath = '/Volumes/pfordyce/data-workspace/personal/batsavapranee/Raw_Data/191112/data/thermolysin-for-stitch/4egfp'\n",
    "\n",
    "p = stitcher.RasterParams(multiImagePath, 'ipnb', 0.1, 500, '4egfp', 4, autoFF = False)\n",
    "stitcher.walkAndStitch(multiImagePath, p, stitchtype = 'kinetic')"
   ]
  },
  {
   "cell_type": "markdown",
   "metadata": {},
   "source": [
    "## Micro-Manager .ome.tiff Stack Stitching"
   ]
  },
  {
   "cell_type": "code",
   "execution_count": 4,
   "metadata": {},
   "outputs": [
    {
     "name": "stdout",
     "output_type": "stream",
     "text": [
      "1\n",
      "['3-GFP-B', '5------']\n",
      "[0]\n",
      "1\n",
      "['3-GFP-B', '5------']\n",
      "[0]\n",
      "1\n",
      "['3-GFP-B', '5------']\n",
      "[0]\n",
      "1\n",
      "['3-GFP-B', '5------']\n",
      "[0]\n",
      "1\n",
      "['3-GFP-B', '5------']\n",
      "[0]\n",
      "1\n",
      "['3-GFP-B', '5------']\n",
      "[0]\n",
      "1\n",
      "['3-GFP-B', '5------']\n",
      "[0]\n",
      "1\n",
      "['3-GFP-B', '5------']\n",
      "[0]\n",
      "1\n",
      "['3-GFP-B', '5------']\n",
      "[0]\n",
      "1\n",
      "['3-GFP-B', '5------']\n",
      "[0]\n",
      "1\n",
      "['3-GFP-B', '5------']\n",
      "[0]\n",
      "1\n",
      "['3-GFP-B', '5------']\n",
      "[0]\n",
      "1\n",
      "['3-GFP-B', '5------']\n",
      "[0]\n",
      "1\n",
      "['3-GFP-B', '5------']\n",
      "[0]\n",
      "1\n",
      "['3-GFP-B', '5------']\n",
      "[0]\n",
      "1\n",
      "['3-GFP-B', '5------']\n",
      "[0]\n",
      "1\n",
      "['3-GFP-B', '5------']\n",
      "[0]\n",
      "1\n",
      "['3-GFP-B', '5------']\n",
      "[0]\n",
      "1\n",
      "['3-GFP-B', '5------']\n",
      "[0]\n",
      "1\n",
      "['3-GFP-B', '5------']\n",
      "[0]\n",
      "1\n",
      "['3-GFP-B', '5------']\n",
      "[0]\n",
      "1\n",
      "['3-GFP-B', '5------']\n",
      "[0]\n",
      "1\n",
      "['3-GFP-B', '5------']\n",
      "[0]\n",
      "1\n",
      "['3-GFP-B', '5------']\n",
      "[0]\n",
      "1\n",
      "['3-GFP-B', '5------']\n",
      "[0]\n",
      "1\n",
      "['3-GFP-B', '5------']\n",
      "[0]\n",
      "1\n",
      "['3-GFP-B', '5------']\n",
      "[0]\n",
      "1\n",
      "['3-GFP-B', '5------']\n",
      "[0]\n",
      "1\n",
      "['3-GFP-B', '5------']\n",
      "[0]\n",
      "1\n",
      "['3-GFP-B', '5------']\n",
      "[0]\n",
      "1\n",
      "['3-GFP-B', '5------']\n",
      "[0]\n",
      "1\n",
      "['3-GFP-B', '5------']\n",
      "[0]\n",
      "1\n",
      "['3-GFP-B', '5------']\n",
      "[0]\n",
      "1\n",
      "['3-GFP-B', '5------']\n",
      "[0]\n",
      "1\n",
      "['3-GFP-B', '5------']\n",
      "[0]\n",
      "1\n",
      "['3-GFP-B', '5------']\n",
      "[0]\n",
      "1\n",
      "['3-GFP-B', '5------']\n",
      "[0]\n",
      "1\n",
      "['3-GFP-B', '5------']\n",
      "[0]\n",
      "1\n",
      "['3-GFP-B', '5------']\n",
      "[0]\n",
      "1\n",
      "['3-GFP-B', '5------']\n",
      "[0]\n",
      "1\n",
      "['3-GFP-B', '5------']\n",
      "[0]\n",
      "1\n",
      "['3-GFP-B', '5------']\n",
      "[0]\n",
      "1\n",
      "['3-GFP-B', '5------']\n",
      "[0]\n",
      "1\n",
      "['3-GFP-B', '5------']\n",
      "[0]\n",
      "1\n",
      "['3-GFP-B', '5------']\n",
      "[0]\n",
      "1\n",
      "['3-GFP-B', '5------']\n",
      "[0]\n",
      "1\n",
      "['3-GFP-B', '5------']\n",
      "[0]\n",
      "1\n",
      "['3-GFP-B', '5------']\n",
      "[0]\n",
      "1\n",
      "['3-GFP-B', '5------']\n",
      "[0]\n",
      "1\n",
      "['3-GFP-B', '5------']\n",
      "[0]\n",
      "1\n",
      "['3-GFP-B', '5------']\n",
      "[0]\n",
      "1\n",
      "['3-GFP-B', '5------']\n",
      "[0]\n",
      "1\n",
      "['3-GFP-B', '5------']\n",
      "[0]\n",
      "1\n",
      "['3-GFP-B', '5------']\n",
      "[0]\n",
      "1\n",
      "['3-GFP-B', '5------']\n",
      "[0]\n",
      "1\n",
      "['3-GFP-B', '5------']\n",
      "[0]\n",
      "1\n",
      "['3-GFP-B', '5------']\n",
      "[0]\n",
      "1\n",
      "['3-GFP-B', '5------']\n",
      "[0]\n",
      "1\n",
      "['3-GFP-B', '5------']\n",
      "[0]\n",
      "1\n",
      "['3-GFP-B', '5------']\n",
      "[0]\n",
      "1\n",
      "['3-GFP-B', '5------']\n",
      "[0]\n",
      "1\n",
      "['3-GFP-B', '5------']\n",
      "[0]\n",
      "1\n",
      "['3-GFP-B', '5------']\n",
      "[0]\n",
      "1\n",
      "['3-GFP-B', '5------']\n",
      "[0]\n",
      "1\n",
      "['3-GFP-B', '5------']\n",
      "[0]\n",
      "1\n",
      "['3-GFP-B', '5------']\n",
      "[0]\n",
      "1\n",
      "['3-GFP-B', '5------']\n",
      "[0]\n",
      "1\n",
      "['3-GFP-B', '5------']\n",
      "[0]\n",
      "1\n",
      "['3-GFP-B', '5------']\n",
      "[0]\n",
      "1\n",
      "['3-GFP-B', '5------']\n",
      "[0]\n",
      "1\n",
      "['3-GFP-B', '5------']\n",
      "[0]\n",
      "1\n",
      "['3-GFP-B', '5------']\n",
      "[0]\n",
      "1\n",
      "['3-GFP-B', '5------']\n",
      "[0]\n",
      "1\n",
      "['3-GFP-B', '5------']\n",
      "[0]\n",
      "1\n",
      "['3-GFP-B', '5------']\n",
      "[0]\n",
      "1\n",
      "['3-GFP-B', '5------']\n",
      "[0]\n",
      "1\n",
      "['3-GFP-B', '5------']\n",
      "[0]\n",
      "1\n",
      "['3-GFP-B', '5------']\n",
      "[0]\n",
      "1\n",
      "['3-GFP-B', '5------']\n",
      "[0]\n",
      "1\n",
      "['3-GFP-B', '5------']\n",
      "[0]\n",
      "1\n",
      "['3-GFP-B', '5------']\n",
      "[0]\n",
      "1\n",
      "['3-GFP-B', '5------']\n",
      "[0]\n",
      "1\n",
      "['3-GFP-B', '5------']\n",
      "[0]\n",
      "1\n",
      "['3-GFP-B', '5------']\n",
      "[0]\n",
      "1\n",
      "['3-GFP-B', '5------']\n",
      "[0]\n",
      "1\n",
      "['3-GFP-B', '5------']\n",
      "[0]\n",
      "1\n",
      "['3-GFP-B', '5------']\n",
      "[0]\n",
      "1\n",
      "['3-GFP-B', '5------']\n",
      "[0]\n",
      "1\n",
      "['3-GFP-B', '5------']\n",
      "[0]\n",
      "1\n",
      "['3-GFP-B', '5------']\n",
      "[0]\n",
      "1\n",
      "['3-GFP-B', '5------']\n",
      "[0]\n",
      "1\n",
      "['3-GFP-B', '5------']\n",
      "[0]\n",
      "1\n",
      "['3-GFP-B', '5------']\n",
      "[0]\n",
      "1\n",
      "['3-GFP-B', '5------']\n",
      "[0]\n",
      "1\n",
      "['3-GFP-B', '5------']\n",
      "[0]\n",
      "1\n",
      "['3-GFP-B', '5------']\n",
      "[0]\n",
      "1\n",
      "['3-GFP-B', '5------']\n",
      "[0]\n",
      "1\n",
      "['3-GFP-B', '5------']\n",
      "[0]\n",
      "1\n",
      "['3-GFP-B', '5------']\n",
      "[0]\n",
      "1\n",
      "['3-GFP-B', '5------']\n",
      "[0]\n",
      "1\n",
      "['3-GFP-B', '5------']\n",
      "[0]\n",
      "1\n",
      "['3-GFP-B', '5------']\n",
      "[0]\n",
      "1\n",
      "['3-GFP-B', '5------']\n",
      "[0]\n",
      "1\n",
      "['3-GFP-B', '5------']\n",
      "[0]\n",
      "1\n",
      "['3-GFP-B', '5------']\n",
      "[0]\n",
      "1\n",
      "['3-GFP-B', '5------']\n",
      "[0]\n",
      "1\n",
      "['3-GFP-B', '5------']\n",
      "[0]\n",
      "1\n",
      "['3-GFP-B', '5------']\n",
      "[0]\n",
      "1\n",
      "['3-GFP-B', '5------']\n",
      "[0]\n",
      "1\n",
      "['3-GFP-B', '5------']\n",
      "[0]\n",
      "1\n",
      "['3-GFP-B', '5------']\n",
      "[0]\n",
      "1\n",
      "['3-GFP-B', '5------']\n",
      "[0]\n"
     ]
    },
    {
     "ename": "KeyError",
     "evalue": "'3-GFP-B'",
     "output_type": "error",
     "traceback": [
      "\u001b[0;31m---------------------------------------------------------------------------\u001b[0m",
      "\u001b[0;31mKeyError\u001b[0m                                  Traceback (most recent call last)",
      "\u001b[0;32m<ipython-input-4-cdf5ea0111af>\u001b[0m in \u001b[0;36m<module>\u001b[0;34m\u001b[0m\n\u001b[1;32m      6\u001b[0m \u001b[0mchannelRemap\u001b[0m \u001b[0;34m=\u001b[0m \u001b[0;34m{\u001b[0m\u001b[0;34m'3-GFP-B'\u001b[0m\u001b[0;34m:\u001b[0m \u001b[0;34m'3-GFP-B'\u001b[0m\u001b[0;34m,\u001b[0m \u001b[0;34m'5------'\u001b[0m\u001b[0;34m:\u001b[0m \u001b[0;34m'Cy5'\u001b[0m\u001b[0;34m}\u001b[0m\u001b[0;34m\u001b[0m\u001b[0;34m\u001b[0m\u001b[0m\n\u001b[1;32m      7\u001b[0m \u001b[0;34m\u001b[0m\u001b[0m\n\u001b[0;32m----> 8\u001b[0;31m \u001b[0mstitcher\u001b[0m\u001b[0;34m.\u001b[0m\u001b[0mMMStitchStacks\u001b[0m\u001b[0;34m(\u001b[0m\u001b[0mroot\u001b[0m\u001b[0;34m,\u001b[0m \u001b[0moverlap\u001b[0m\u001b[0;34m,\u001b[0m \u001b[0msetup\u001b[0m\u001b[0;34m,\u001b[0m \u001b[0mchannelExposureMap\u001b[0m\u001b[0;34m,\u001b[0m \u001b[0mautoFF\u001b[0m\u001b[0;34m=\u001b[0m\u001b[0;32mFalse\u001b[0m\u001b[0;34m,\u001b[0m \u001b[0mchannelRemap\u001b[0m \u001b[0;34m=\u001b[0m \u001b[0mchannelRemap\u001b[0m\u001b[0;34m)\u001b[0m\u001b[0;34m\u001b[0m\u001b[0;34m\u001b[0m\u001b[0m\n\u001b[0m",
      "\u001b[0;32m~/Documents/Stanford/Software/Packages/ImageStitcher/imagestitcher/stitcher.py\u001b[0m in \u001b[0;36mMMStitchStacks\u001b[0;34m(root, overlap, setup, channelExposureMap, autoFF, channelRemap)\u001b[0m\n\u001b[1;32m    907\u001b[0m \u001b[0;34m\u001b[0m\u001b[0m\n\u001b[1;32m    908\u001b[0m \u001b[0;32mdef\u001b[0m \u001b[0mMMStitchStacks\u001b[0m\u001b[0;34m(\u001b[0m\u001b[0mroot\u001b[0m\u001b[0;34m,\u001b[0m \u001b[0moverlap\u001b[0m\u001b[0;34m,\u001b[0m \u001b[0msetup\u001b[0m\u001b[0;34m,\u001b[0m \u001b[0mchannelExposureMap\u001b[0m\u001b[0;34m,\u001b[0m \u001b[0mautoFF\u001b[0m \u001b[0;34m=\u001b[0m \u001b[0;32mFalse\u001b[0m\u001b[0;34m,\u001b[0m \u001b[0mchannelRemap\u001b[0m \u001b[0;34m=\u001b[0m \u001b[0;32mNone\u001b[0m\u001b[0;34m)\u001b[0m\u001b[0;34m:\u001b[0m\u001b[0;34m\u001b[0m\u001b[0;34m\u001b[0m\u001b[0m\n\u001b[0;32m--> 909\u001b[0;31m     \u001b[0mraster_metadata\u001b[0m \u001b[0;34m=\u001b[0m \u001b[0mMMFileHandler\u001b[0m\u001b[0;34m.\u001b[0m\u001b[0mparseMMStackedFolder\u001b[0m\u001b[0;34m(\u001b[0m\u001b[0mroot\u001b[0m\u001b[0;34m,\u001b[0m \u001b[0mchannelExposureMap\u001b[0m\u001b[0;34m,\u001b[0m \u001b[0mremapChannels\u001b[0m \u001b[0;34m=\u001b[0m \u001b[0mchannelRemap\u001b[0m\u001b[0;34m)\u001b[0m\u001b[0;34m\u001b[0m\u001b[0;34m\u001b[0m\u001b[0m\n\u001b[0m\u001b[1;32m    910\u001b[0m \u001b[0;34m\u001b[0m\u001b[0m\n\u001b[1;32m    911\u001b[0m     \u001b[0mchannels\u001b[0m \u001b[0;34m=\u001b[0m \u001b[0mraster_metadata\u001b[0m\u001b[0;34m.\u001b[0m\u001b[0mchannel\u001b[0m\u001b[0;34m.\u001b[0m\u001b[0munique\u001b[0m\u001b[0;34m(\u001b[0m\u001b[0;34m)\u001b[0m\u001b[0;34m.\u001b[0m\u001b[0mtolist\u001b[0m\u001b[0;34m(\u001b[0m\u001b[0;34m)\u001b[0m\u001b[0;34m\u001b[0m\u001b[0;34m\u001b[0m\u001b[0m\n",
      "\u001b[0;32m~/Documents/Stanford/Software/Packages/ImageStitcher/imagestitcher/stitcher.py\u001b[0m in \u001b[0;36mparseMMStackedFolder\u001b[0;34m(root, channelExposureMap, remapChannels)\u001b[0m\n\u001b[1;32m    380\u001b[0m     \u001b[0;32mdef\u001b[0m \u001b[0mparseMMStackedFolder\u001b[0m\u001b[0;34m(\u001b[0m\u001b[0mroot\u001b[0m\u001b[0;34m,\u001b[0m \u001b[0mchannelExposureMap\u001b[0m\u001b[0;34m,\u001b[0m \u001b[0mremapChannels\u001b[0m \u001b[0;34m=\u001b[0m \u001b[0;32mNone\u001b[0m\u001b[0;34m)\u001b[0m\u001b[0;34m:\u001b[0m\u001b[0;34m\u001b[0m\u001b[0;34m\u001b[0m\u001b[0m\n\u001b[1;32m    381\u001b[0m         \u001b[0mmetadata\u001b[0m \u001b[0;34m=\u001b[0m \u001b[0mpd\u001b[0m\u001b[0;34m.\u001b[0m\u001b[0mconcat\u001b[0m\u001b[0;34m(\u001b[0m\u001b[0;34m[\u001b[0m\u001b[0mMMFileHandler\u001b[0m\u001b[0;34m.\u001b[0m\u001b[0mparseStackMD\u001b[0m\u001b[0;34m(\u001b[0m\u001b[0mstr\u001b[0m\u001b[0;34m(\u001b[0m\u001b[0mfolder\u001b[0m\u001b[0;34m)\u001b[0m\u001b[0;34m)\u001b[0m \u001b[0;32mfor\u001b[0m \u001b[0mfolder\u001b[0m \u001b[0;32min\u001b[0m \u001b[0mpathlib\u001b[0m\u001b[0;34m.\u001b[0m\u001b[0mPath\u001b[0m\u001b[0;34m(\u001b[0m\u001b[0mstr\u001b[0m\u001b[0;34m(\u001b[0m\u001b[0mroot\u001b[0m\u001b[0;34m)\u001b[0m\u001b[0;34m)\u001b[0m\u001b[0;34m.\u001b[0m\u001b[0miterdir\u001b[0m\u001b[0;34m(\u001b[0m\u001b[0;34m)\u001b[0m \u001b[0;32mif\u001b[0m \u001b[0;34m'tif'\u001b[0m \u001b[0;32min\u001b[0m \u001b[0mfolder\u001b[0m\u001b[0;34m.\u001b[0m\u001b[0msuffix\u001b[0m\u001b[0;34m]\u001b[0m\u001b[0;34m)\u001b[0m\u001b[0;34m\u001b[0m\u001b[0;34m\u001b[0m\u001b[0m\n\u001b[0;32m--> 382\u001b[0;31m         \u001b[0mmetadata\u001b[0m\u001b[0;34m[\u001b[0m\u001b[0;34m'exp'\u001b[0m\u001b[0;34m]\u001b[0m \u001b[0;34m=\u001b[0m \u001b[0mmetadata\u001b[0m\u001b[0;34m.\u001b[0m\u001b[0mchannel\u001b[0m\u001b[0;34m.\u001b[0m\u001b[0mapply\u001b[0m\u001b[0;34m(\u001b[0m\u001b[0;32mlambda\u001b[0m \u001b[0mc\u001b[0m\u001b[0;34m:\u001b[0m \u001b[0mchannelExposureMap\u001b[0m\u001b[0;34m[\u001b[0m\u001b[0mc\u001b[0m\u001b[0;34m]\u001b[0m\u001b[0;34m)\u001b[0m\u001b[0;34m\u001b[0m\u001b[0;34m\u001b[0m\u001b[0m\n\u001b[0m\u001b[1;32m    383\u001b[0m         \u001b[0;32mif\u001b[0m \u001b[0mremapChannels\u001b[0m\u001b[0;34m:\u001b[0m\u001b[0;34m\u001b[0m\u001b[0;34m\u001b[0m\u001b[0m\n\u001b[1;32m    384\u001b[0m             \u001b[0mmetadata\u001b[0m\u001b[0;34m[\u001b[0m\u001b[0;34m'channel'\u001b[0m\u001b[0;34m]\u001b[0m \u001b[0;34m=\u001b[0m \u001b[0mmetadata\u001b[0m\u001b[0;34m.\u001b[0m\u001b[0mchannel\u001b[0m\u001b[0;34m.\u001b[0m\u001b[0mapply\u001b[0m\u001b[0;34m(\u001b[0m\u001b[0;32mlambda\u001b[0m \u001b[0mc\u001b[0m\u001b[0;34m:\u001b[0m \u001b[0mremapChannels\u001b[0m\u001b[0;34m[\u001b[0m\u001b[0mc\u001b[0m\u001b[0;34m]\u001b[0m\u001b[0;34m)\u001b[0m\u001b[0;34m\u001b[0m\u001b[0;34m\u001b[0m\u001b[0m\n",
      "\u001b[0;32m~/anaconda3/envs/Processor/lib/python3.7/site-packages/pandas/core/series.py\u001b[0m in \u001b[0;36mapply\u001b[0;34m(self, func, convert_dtype, args, **kwds)\u001b[0m\n\u001b[1;32m   4040\u001b[0m             \u001b[0;32melse\u001b[0m\u001b[0;34m:\u001b[0m\u001b[0;34m\u001b[0m\u001b[0;34m\u001b[0m\u001b[0m\n\u001b[1;32m   4041\u001b[0m                 \u001b[0mvalues\u001b[0m \u001b[0;34m=\u001b[0m \u001b[0mself\u001b[0m\u001b[0;34m.\u001b[0m\u001b[0mastype\u001b[0m\u001b[0;34m(\u001b[0m\u001b[0mobject\u001b[0m\u001b[0;34m)\u001b[0m\u001b[0;34m.\u001b[0m\u001b[0mvalues\u001b[0m\u001b[0;34m\u001b[0m\u001b[0;34m\u001b[0m\u001b[0m\n\u001b[0;32m-> 4042\u001b[0;31m                 \u001b[0mmapped\u001b[0m \u001b[0;34m=\u001b[0m \u001b[0mlib\u001b[0m\u001b[0;34m.\u001b[0m\u001b[0mmap_infer\u001b[0m\u001b[0;34m(\u001b[0m\u001b[0mvalues\u001b[0m\u001b[0;34m,\u001b[0m \u001b[0mf\u001b[0m\u001b[0;34m,\u001b[0m \u001b[0mconvert\u001b[0m\u001b[0;34m=\u001b[0m\u001b[0mconvert_dtype\u001b[0m\u001b[0;34m)\u001b[0m\u001b[0;34m\u001b[0m\u001b[0;34m\u001b[0m\u001b[0m\n\u001b[0m\u001b[1;32m   4043\u001b[0m \u001b[0;34m\u001b[0m\u001b[0m\n\u001b[1;32m   4044\u001b[0m         \u001b[0;32mif\u001b[0m \u001b[0mlen\u001b[0m\u001b[0;34m(\u001b[0m\u001b[0mmapped\u001b[0m\u001b[0;34m)\u001b[0m \u001b[0;32mand\u001b[0m \u001b[0misinstance\u001b[0m\u001b[0;34m(\u001b[0m\u001b[0mmapped\u001b[0m\u001b[0;34m[\u001b[0m\u001b[0;36m0\u001b[0m\u001b[0;34m]\u001b[0m\u001b[0;34m,\u001b[0m \u001b[0mSeries\u001b[0m\u001b[0;34m)\u001b[0m\u001b[0;34m:\u001b[0m\u001b[0;34m\u001b[0m\u001b[0;34m\u001b[0m\u001b[0m\n",
      "\u001b[0;32mpandas/_libs/lib.pyx\u001b[0m in \u001b[0;36mpandas._libs.lib.map_infer\u001b[0;34m()\u001b[0m\n",
      "\u001b[0;32m~/Documents/Stanford/Software/Packages/ImageStitcher/imagestitcher/stitcher.py\u001b[0m in \u001b[0;36m<lambda>\u001b[0;34m(c)\u001b[0m\n\u001b[1;32m    380\u001b[0m     \u001b[0;32mdef\u001b[0m \u001b[0mparseMMStackedFolder\u001b[0m\u001b[0;34m(\u001b[0m\u001b[0mroot\u001b[0m\u001b[0;34m,\u001b[0m \u001b[0mchannelExposureMap\u001b[0m\u001b[0;34m,\u001b[0m \u001b[0mremapChannels\u001b[0m \u001b[0;34m=\u001b[0m \u001b[0;32mNone\u001b[0m\u001b[0;34m)\u001b[0m\u001b[0;34m:\u001b[0m\u001b[0;34m\u001b[0m\u001b[0;34m\u001b[0m\u001b[0m\n\u001b[1;32m    381\u001b[0m         \u001b[0mmetadata\u001b[0m \u001b[0;34m=\u001b[0m \u001b[0mpd\u001b[0m\u001b[0;34m.\u001b[0m\u001b[0mconcat\u001b[0m\u001b[0;34m(\u001b[0m\u001b[0;34m[\u001b[0m\u001b[0mMMFileHandler\u001b[0m\u001b[0;34m.\u001b[0m\u001b[0mparseStackMD\u001b[0m\u001b[0;34m(\u001b[0m\u001b[0mstr\u001b[0m\u001b[0;34m(\u001b[0m\u001b[0mfolder\u001b[0m\u001b[0;34m)\u001b[0m\u001b[0;34m)\u001b[0m \u001b[0;32mfor\u001b[0m \u001b[0mfolder\u001b[0m \u001b[0;32min\u001b[0m \u001b[0mpathlib\u001b[0m\u001b[0;34m.\u001b[0m\u001b[0mPath\u001b[0m\u001b[0;34m(\u001b[0m\u001b[0mstr\u001b[0m\u001b[0;34m(\u001b[0m\u001b[0mroot\u001b[0m\u001b[0;34m)\u001b[0m\u001b[0;34m)\u001b[0m\u001b[0;34m.\u001b[0m\u001b[0miterdir\u001b[0m\u001b[0;34m(\u001b[0m\u001b[0;34m)\u001b[0m \u001b[0;32mif\u001b[0m \u001b[0;34m'tif'\u001b[0m \u001b[0;32min\u001b[0m \u001b[0mfolder\u001b[0m\u001b[0;34m.\u001b[0m\u001b[0msuffix\u001b[0m\u001b[0;34m]\u001b[0m\u001b[0;34m)\u001b[0m\u001b[0;34m\u001b[0m\u001b[0;34m\u001b[0m\u001b[0m\n\u001b[0;32m--> 382\u001b[0;31m         \u001b[0mmetadata\u001b[0m\u001b[0;34m[\u001b[0m\u001b[0;34m'exp'\u001b[0m\u001b[0;34m]\u001b[0m \u001b[0;34m=\u001b[0m \u001b[0mmetadata\u001b[0m\u001b[0;34m.\u001b[0m\u001b[0mchannel\u001b[0m\u001b[0;34m.\u001b[0m\u001b[0mapply\u001b[0m\u001b[0;34m(\u001b[0m\u001b[0;32mlambda\u001b[0m \u001b[0mc\u001b[0m\u001b[0;34m:\u001b[0m \u001b[0mchannelExposureMap\u001b[0m\u001b[0;34m[\u001b[0m\u001b[0mc\u001b[0m\u001b[0;34m]\u001b[0m\u001b[0;34m)\u001b[0m\u001b[0;34m\u001b[0m\u001b[0;34m\u001b[0m\u001b[0m\n\u001b[0m\u001b[1;32m    383\u001b[0m         \u001b[0;32mif\u001b[0m \u001b[0mremapChannels\u001b[0m\u001b[0;34m:\u001b[0m\u001b[0;34m\u001b[0m\u001b[0;34m\u001b[0m\u001b[0m\n\u001b[1;32m    384\u001b[0m             \u001b[0mmetadata\u001b[0m\u001b[0;34m[\u001b[0m\u001b[0;34m'channel'\u001b[0m\u001b[0;34m]\u001b[0m \u001b[0;34m=\u001b[0m \u001b[0mmetadata\u001b[0m\u001b[0;34m.\u001b[0m\u001b[0mchannel\u001b[0m\u001b[0;34m.\u001b[0m\u001b[0mapply\u001b[0m\u001b[0;34m(\u001b[0m\u001b[0;32mlambda\u001b[0m \u001b[0mc\u001b[0m\u001b[0;34m:\u001b[0m \u001b[0mremapChannels\u001b[0m\u001b[0;34m[\u001b[0m\u001b[0mc\u001b[0m\u001b[0;34m]\u001b[0m\u001b[0;34m)\u001b[0m\u001b[0;34m\u001b[0m\u001b[0;34m\u001b[0m\u001b[0m\n",
      "\u001b[0;31mKeyError\u001b[0m: '3-GFP-B'"
     ]
    }
   ],
   "source": [
    "overlap = 0.1\n",
    "setup = 4\n",
    "autoFF = False\n",
    "root = '/Volumes/pfordyce/data-workspace/personal/batsavapranee/Raw_Data/191112/data/background_stack'\n",
    "channelExposureMap = {'3-GFP-B': 500, '5------': 100}\n",
    "channelRemap = {'3-GFP-B': '3-GFP-B', '5------': 'Cy5'}\n",
    "\n",
    "stitcher.MMStitchStacks(root, overlap, setup, channelExposureMap, autoFF=False, channelRemap = channelRemap)"
   ]
  },
  {
   "cell_type": "markdown",
   "metadata": {},
   "source": [
    "## BG Subtract"
   ]
  },
  {
   "cell_type": "markdown",
   "metadata": {},
   "source": [
    "##### Hold the BG Images"
   ]
  },
  {
   "cell_type": "code",
   "execution_count": 19,
   "metadata": {},
   "outputs": [],
   "source": [
    "bg = stitcher.BackgroundImages()"
   ]
  },
  {
   "cell_type": "markdown",
   "metadata": {},
   "source": [
    "###### Define Paths"
   ]
  },
  {
   "cell_type": "code",
   "execution_count": 20,
   "metadata": {},
   "outputs": [],
   "source": [
    "# Reference Background Images\n",
    "backgroundsRootD1 = '/media/dmokhtari/Atlas-HDD/eMITOMI_Workup/Setup3/180614_NewPipeline/Backgrounds/20180614-154530-d1_Background/4egfp/StitchedImages/StitchedImg_500_4egfp_0.tif'\n",
    "backgroundsRootD2 = '/media/dmokhtari/Atlas-HDD/eMITOMI_Workup/Setup3/180614_NewPipeline/Backgrounds/20180614-154837-d2_Background/4egfp/StitchedImages/StitchedImg_500_4egfp_0.tif'"
   ]
  },
  {
   "cell_type": "markdown",
   "metadata": {},
   "source": [
    "##### Add the Images"
   ]
  },
  {
   "cell_type": "code",
   "execution_count": 21,
   "metadata": {},
   "outputs": [],
   "source": [
    "bg.add(backgroundsRootD1, 'd1', '4egfp', 500)\n",
    "bg.add(backgroundsRootD2, 'd2', '4egfp', 500)"
   ]
  },
  {
   "cell_type": "markdown",
   "metadata": {},
   "source": [
    "##### Define Target"
   ]
  },
  {
   "cell_type": "code",
   "execution_count": 26,
   "metadata": {},
   "outputs": [],
   "source": [
    "# target = '/home/eMITOMI/Analysis_Pipelines/common/ProcessorPack/Testing/180528_S3/Assays/d1_cMUP/Button_Quants/20180529-001827-d1_10uM_cMUP_PreAssay_ButtonQuant/4egfp/StitchedImages/StitchedImg_500_GFP_0.tif'\n",
    "targetRoot = '/media/dmokhtari/Atlas-HDD/eMITOMI_Workup/Setup3/180614_NewPipeline/Assays/d2_MecMUP/ButtonQuants/'"
   ]
  },
  {
   "cell_type": "markdown",
   "metadata": {},
   "source": [
    "###### Execute"
   ]
  },
  {
   "cell_type": "code",
   "execution_count": 27,
   "metadata": {},
   "outputs": [
    {
     "name": "stderr",
     "output_type": "stream",
     "text": [
      "18-06-18 17:32:43 INFO     Background Subtracting | Ch: 4egfp, Ex: 500, Index: d2\n",
      "18-06-18 17:32:45 INFO     Background Subtracting | Ch: 4egfp, Ex: 500, Index: d2\n",
      "18-06-18 17:32:46 INFO     Background Subtracting | Ch: 4egfp, Ex: 500, Index: d2\n",
      "18-06-18 17:32:48 INFO     Background Subtracting | Ch: 4egfp, Ex: 500, Index: d2\n"
     ]
    }
   ],
   "source": [
    "bg.walkAndBGSubtract(targetRoot, 'd2', '4egfp')"
   ]
  },
  {
   "cell_type": "markdown",
   "metadata": {},
   "source": [
    "## \"Specialty\" Stitching"
   ]
  },
  {
   "cell_type": "markdown",
   "metadata": {},
   "source": [
    "#### Standard Curve"
   ]
  },
  {
   "cell_type": "code",
   "execution_count": 35,
   "metadata": {},
   "outputs": [
    {
     "name": "stderr",
     "output_type": "stream",
     "text": [
      "Stitching Standard: 100%|██████████| 7/7 [00:05<00:00,  1.37it/s]\n"
     ]
    }
   ],
   "source": [
    "path = '/media/dmokhtari/Atlas-HDD/eMITOMI_Workup/Setup3/180614_NewPipeline/Standards/d2_cMU'\n",
    "\n",
    "handles = [('0uM_cMU', 0), \n",
    "           ('2uM_cMU', 2), \n",
    "           ('5uM_cMU', 5), \n",
    "           ('10uM_cMU', 10), \n",
    "           ('25uM_cMU', 25), \n",
    "           ('50uM_cMU', 50), \n",
    "           ('100uM_cMU', 100)]\n",
    "\n",
    "params = stitcher.RasterParams(path, 'ipnb', 0.1, 200, '3dapi', 3, autoFF = False)\n",
    "\n",
    "stitcher.stitchStandard(path, params, handles)"
   ]
  }
 ],
 "metadata": {
  "kernelspec": {
   "display_name": "Processor",
   "language": "python",
   "name": "processor"
  },
  "language_info": {
   "codemirror_mode": {
    "name": "ipython",
    "version": 3
   },
   "file_extension": ".py",
   "mimetype": "text/x-python",
   "name": "python",
   "nbconvert_exporter": "python",
   "pygments_lexer": "ipython3",
   "version": "3.7.4"
  }
 },
 "nbformat": 4,
 "nbformat_minor": 2
}
