{
 "cells": [
  {
   "cell_type": "markdown",
   "metadata": {},
   "source": [
    "# Image Stitcher\n",
    "___\n",
    "18 Jan, 2022 - PHS edit to include creating a stitched-image folder\n",
    "\n",
    "12 Dec, 2022 - PHS edit to test BaSiC implementation (see first 3 code blocks)\n",
    "\n",
    "\n",
    "**Fordyce Lab**, **2020**"
   ]
  },
  {
   "cell_type": "code",
   "execution_count": 1,
   "metadata": {},
   "outputs": [],
   "source": [
    "%load_ext autoreload\n",
    "%autoreload 2\n",
    "\n",
    "from imagestitcher import stitcher\n",
    "from imagestitcher import stitcherv3_BaSiC\n",
    "import os\n",
    "import shutil"
   ]
  },
  {
   "cell_type": "code",
   "execution_count": 16,
   "metadata": {},
   "outputs": [
    {
     "name": "stdout",
     "output_type": "stream",
     "text": [
      "this is the stitcher in the dropbox\n",
      "/Users/petersuzuki/Desktop/files/test_images_stitching/cy5/20220408-125204_220405_4blk_binding_step1_PostWash_Quant_cy5\n",
      "completed standard FF correction\n",
      "/Users/petersuzuki/Desktop/files/test_images_stitching/egfp/20220408-125204_220405_4blk_binding_step1_PostWash_Quant_egfp\n",
      "completed standard FF correction\n"
     ]
    }
   ],
   "source": [
    "## TEST STANDARD FF - does this still work with unedited code?\n",
    "\n",
    "testfolder = '/Users/petersuzuki/Desktop/files/test_images_stitching'\n",
    "\n",
    "stitcherv3_BaSiC.StitchingSettings.channels.update({'egfp','cy5'})\n",
    "\n",
    "ffImagePath_egfp = '/Users/petersuzuki/Dropbox/PhD_Work/3_sharedProjects/activMutants/data/setup7/211206_FFcorrection_processedimages/MED_zyla_fluor_500ms_1.tif' # need a path to an image; won't actually be used for BaSiC\n",
    "ffImagePath_cy5 = '/Users/petersuzuki/Dropbox/PhD_Work/3_sharedProjects/activMutants/data/setup7/211206_FFcorrection_processedimages/MED_zyla_acidblue9_500ms_1.tif' # need a path to an image; won't actually be used for BaSiC\n",
    "\n",
    "settings = stitcherv3_BaSiC.StitchingSettings(\n",
    "                                             ffPaths = {'egfp': ffImagePath_egfp,\n",
    "                                                       'cy5': ffImagePath_cy5},\n",
    "                                             ffParams = {'egfp':{500: (94, 29573)},\n",
    "                                                       'cy5':{500: (94, 29573)}},\n",
    "                                             setupNum = 7,\n",
    "                                             tileDim = 1024\n",
    "                                     )\n",
    "\n",
    "\n",
    "p = stitcherv3_BaSiC.RasterParams(0.1, rotation = 0.35, autoFF = True)\n",
    "stitcherv3_BaSiC.walkAndStitch(testfolder, p, stitchtype = 'single')"
   ]
  },
  {
   "cell_type": "code",
   "execution_count": 15,
   "metadata": {},
   "outputs": [
    {
     "name": "stdout",
     "output_type": "stream",
     "text": [
      "this is the stitcher in the dropbox\n",
      "/Users/petersuzuki/Desktop/files/test_images_stitching/cy5/20220408-125204_220405_4blk_binding_step1_PostWash_Quant_cy5\n",
      "completed BaSiC FF correction\n",
      "completed BaSiC FF correction\n",
      "/Users/petersuzuki/Desktop/files/test_images_stitching/egfp/20220408-125204_220405_4blk_binding_step1_PostWash_Quant_egfp\n",
      "completed BaSiC FF correction\n",
      "completed BaSiC FF correction\n"
     ]
    }
   ],
   "source": [
    "## TEST BaSiC FF\n",
    "testfolder = '/Users/petersuzuki/Desktop/files/test_images_stitching'\n",
    "\n",
    "stitcherv3_BaSiC.StitchingSettings.channels.update({'egfp','cy5'})\n",
    "\n",
    "settings = stitcherv3_BaSiC.StitchingSettings(\n",
    "                                             ffType = 'BaSiC',\n",
    "                                             setupNum = 7,\n",
    "                                             tileDim = 1024\n",
    "                                             )\n",
    "\n",
    "\n",
    "p = stitcherv3_BaSiC.RasterParams(0.1, rotation = 0.35, autoFF = True)\n",
    "stitcherv3_BaSiC.walkAndStitch(testfolder, p, stitchtype = 'single')"
   ]
  },
  {
   "cell_type": "code",
   "execution_count": null,
   "metadata": {},
   "outputs": [],
   "source": []
  },
  {
   "cell_type": "markdown",
   "metadata": {},
   "source": [
    "<br>\n",
    "\n",
    "## A. Define stitching settings"
   ]
  },
  {
   "cell_type": "code",
   "execution_count": 13,
   "metadata": {},
   "outputs": [
    {
     "ename": "ValueError",
     "evalue": "Error: The Flat-Field Image for egfp at /Volumes/PHS_DATA/PHS data/MITOMI/211018_FFimages_setup7/zyla_fluorescein_500ms_1_AVERAGED_2x2bin_darksub.tif does not exist",
     "output_type": "error",
     "traceback": [
      "\u001b[0;31m---------------------------------------------------------------------------\u001b[0m",
      "\u001b[0;31mValueError\u001b[0m                                Traceback (most recent call last)",
      "\u001b[0;32m/var/folders/x_/6g_kbwp541vcdlf02rtjg9_00000gn/T/ipykernel_2259/3990822668.py\u001b[0m in \u001b[0;36m<module>\u001b[0;34m\u001b[0m\n\u001b[1;32m     18\u001b[0m                                         \u001b[0mffParams\u001b[0m \u001b[0;34m=\u001b[0m \u001b[0msetup_ffParams\u001b[0m\u001b[0;34m,\u001b[0m\u001b[0;34m\u001b[0m\u001b[0;34m\u001b[0m\u001b[0m\n\u001b[1;32m     19\u001b[0m                                         \u001b[0msetupNum\u001b[0m\u001b[0;34m=\u001b[0m \u001b[0;36m7\u001b[0m\u001b[0;34m,\u001b[0m\u001b[0;34m\u001b[0m\u001b[0;34m\u001b[0m\u001b[0m\n\u001b[0;32m---> 20\u001b[0;31m                                         \u001b[0mtileDim\u001b[0m \u001b[0;34m=\u001b[0m \u001b[0;36m1024\u001b[0m\u001b[0;34m\u001b[0m\u001b[0;34m\u001b[0m\u001b[0m\n\u001b[0m\u001b[1;32m     21\u001b[0m                                      )\n",
      "\u001b[0;32m~/Dropbox/PhD_Work/3_sharedProjects/activMutants/scripts/ImageStitcher/imagestitcher/stitcher.py\u001b[0m in \u001b[0;36m__init__\u001b[0;34m(self, ffPaths, ffParams, tileDim, setupNum)\u001b[0m\n\u001b[1;32m     66\u001b[0m                         \u001b[0;32mNone\u001b[0m\u001b[0;34m\u001b[0m\u001b[0;34m\u001b[0m\u001b[0m\n\u001b[1;32m     67\u001b[0m \t\t\"\"\"\n\u001b[0;32m---> 68\u001b[0;31m                 \u001b[0mStitchingSettings\u001b[0m\u001b[0;34m.\u001b[0m\u001b[0mffPaths\u001b[0m \u001b[0;34m=\u001b[0m \u001b[0mself\u001b[0m\u001b[0;34m.\u001b[0m\u001b[0mdefineFFPaths\u001b[0m\u001b[0;34m(\u001b[0m\u001b[0mffPaths\u001b[0m\u001b[0;34m)\u001b[0m\u001b[0;34m\u001b[0m\u001b[0;34m\u001b[0m\u001b[0m\n\u001b[0m\u001b[1;32m     69\u001b[0m                 \u001b[0mStitchingSettings\u001b[0m\u001b[0;34m.\u001b[0m\u001b[0mffImages\u001b[0m \u001b[0;34m=\u001b[0m \u001b[0mself\u001b[0m\u001b[0;34m.\u001b[0m\u001b[0mffImages\u001b[0m \u001b[0;34m=\u001b[0m \u001b[0mself\u001b[0m\u001b[0;34m.\u001b[0m\u001b[0mreadFFImages\u001b[0m\u001b[0;34m(\u001b[0m\u001b[0;34m)\u001b[0m\u001b[0;34m\u001b[0m\u001b[0;34m\u001b[0m\u001b[0m\n\u001b[1;32m     70\u001b[0m                 \u001b[0mStitchingSettings\u001b[0m\u001b[0;34m.\u001b[0m\u001b[0mffParams\u001b[0m \u001b[0;34m=\u001b[0m \u001b[0mself\u001b[0m\u001b[0;34m.\u001b[0m\u001b[0mffParams\u001b[0m \u001b[0;34m=\u001b[0m \u001b[0mffParams\u001b[0m\u001b[0;34m\u001b[0m\u001b[0;34m\u001b[0m\u001b[0m\n",
      "\u001b[0;32m~/Dropbox/PhD_Work/3_sharedProjects/activMutants/scripts/ImageStitcher/imagestitcher/stitcher.py\u001b[0m in \u001b[0;36mdefineFFPaths\u001b[0;34m(self, ffChannelsPaths)\u001b[0m\n\u001b[1;32m    112\u001b[0m                         \u001b[0;32melse\u001b[0m\u001b[0;34m:\u001b[0m\u001b[0;34m\u001b[0m\u001b[0;34m\u001b[0m\u001b[0m\n\u001b[1;32m    113\u001b[0m                                 \u001b[0mnote\u001b[0m \u001b[0;34m=\u001b[0m \u001b[0;34m'Error: The Flat-Field Image for {} at {} does not exist'\u001b[0m\u001b[0;34m\u001b[0m\u001b[0;34m\u001b[0m\u001b[0m\n\u001b[0;32m--> 114\u001b[0;31m                                 \u001b[0;32mraise\u001b[0m \u001b[0mValueError\u001b[0m\u001b[0;34m(\u001b[0m\u001b[0mnote\u001b[0m\u001b[0;34m.\u001b[0m\u001b[0mformat\u001b[0m\u001b[0;34m(\u001b[0m\u001b[0mchannel\u001b[0m\u001b[0;34m,\u001b[0m \u001b[0mpath\u001b[0m\u001b[0;34m)\u001b[0m\u001b[0;34m)\u001b[0m\u001b[0;34m\u001b[0m\u001b[0;34m\u001b[0m\u001b[0m\n\u001b[0m\u001b[1;32m    115\u001b[0m                 \u001b[0;32mreturn\u001b[0m \u001b[0mallPaths\u001b[0m\u001b[0;34m\u001b[0m\u001b[0;34m\u001b[0m\u001b[0m\n\u001b[1;32m    116\u001b[0m \u001b[0;34m\u001b[0m\u001b[0m\n",
      "\u001b[0;31mValueError\u001b[0m: Error: The Flat-Field Image for egfp at /Volumes/PHS_DATA/PHS data/MITOMI/211018_FFimages_setup7/zyla_fluorescein_500ms_1_AVERAGED_2x2bin_darksub.tif does not exist"
     ]
    }
   ],
   "source": [
    "##### Define flat-field paths and parameters\n",
    "mypath = '/Volumes/PHS_DATA/PHS data/MITOMI/211018_FFimages_setup7/211206_FFcorrection_processedimages/'\n",
    "#ffImagePath = mypath+'MED_zyla_fluor_500ms_1.tif'\n",
    "realImagePath = mypath+'AVG_zyla_dark_50ms_1_MMStack_Default.tif'\n",
    "\n",
    "# params for old FF image (1x1 collected, converted to 2x2 bin in python)\n",
    "ffImagePath = '/Volumes/PHS_DATA/PHS data/MITOMI/211018_FFimages_setup7/zyla_fluorescein_500ms_1_AVERAGED_2x2bin_darksub.tif'\n",
    "setup_ffParams = {'egfp':{500: (399, 15641)}}\n",
    "\n",
    "# params for new FF image (2x2 collected)\n",
    "#ffImagePath = '/Volumes/PHS_DATA/PHS data/MITOMI/211018_FFimages_setup7/211206_FFcorrection_processedimages/MED_zyla_fluor_800ms_1.tif'\n",
    "#setup_ffParams = {'egfp':{500: (94, 29573)}}\n",
    "\n",
    "#setup_eGFP_ffPath = '../median_2x2_1000ms_eGFP_Zyla42.tiff'\n",
    "#setup_ffParams = {'egfp':{500: (94, 29573)}}\n",
    "\n",
    "settings = stitcher.StitchingSettings(ffPaths = {'egfp': ffImagePath},\n",
    "                                        ffParams = setup_ffParams,\n",
    "                                        setupNum= 7,\n",
    "                                        tileDim = 1024\n",
    "                                     )"
   ]
  },
  {
   "cell_type": "code",
   "execution_count": 5,
   "metadata": {},
   "outputs": [
    {
     "data": {
      "image/png": "[encoded data removed]",
      "text/plain": [
       "<Figure size 432x288 with 2 Axes>"
      ]
     },
     "metadata": {
      "needs_background": "light"
     },
     "output_type": "display_data"
    }
   ],
   "source": [
    "settings.showFFImages(vmin = 0, vmax = 65000)"
   ]
  },
  {
   "cell_type": "markdown",
   "metadata": {},
   "source": [
    "<br>\n",
    "\n",
    "## B. Stitch IPython Notebook images"
   ]
  },
  {
   "cell_type": "code",
   "execution_count": 7,
   "metadata": {},
   "outputs": [],
   "source": [
    "stitcher.StitchingSettings.channels.update({'egfp','cy5'})\n",
    "expfolder = '/Volumes/PHS_DATA/PHS data/MITOMI/220114_CRTFhit_805expressiontest'"
   ]
  },
  {
   "cell_type": "code",
   "execution_count": 19,
   "metadata": {
    "scrolled": true,
    "tags": []
   },
   "outputs": [
    {
     "name": "stderr",
     "output_type": "stream",
     "text": [
      "22-01-24 15:45:12 INFO     Stitching images | Ch: egfp, Exp: None, Overlap: 0.1, Rot: 0.35\n",
      "22-01-24 15:45:14 INFO     Flat-Field Corrected Image | Ch: egfp, Exp: 500\n",
      "22-01-24 15:45:15 INFO     Stitching images | Ch: egfp, Exp: None, Overlap: 0.1, Rot: 0.35\n",
      "22-01-24 15:45:17 INFO     Flat-Field Corrected Image | Ch: egfp, Exp: 500\n",
      "22-01-24 15:45:18 INFO     Stitching images | Ch: egfp, Exp: None, Overlap: 0.1, Rot: 0.35\n",
      "22-01-24 15:45:20 INFO     Flat-Field Corrected Image | Ch: egfp, Exp: 500\n",
      "22-01-24 15:45:21 INFO     Stitching images | Ch: egfp, Exp: None, Overlap: 0.1, Rot: 0.35\n",
      "22-01-24 15:45:23 INFO     Flat-Field Corrected Image | Ch: egfp, Exp: 500\n",
      "22-01-24 15:45:23 INFO     Stitching images | Ch: egfp, Exp: None, Overlap: 0.1, Rot: 0.35\n",
      "22-01-24 15:45:26 INFO     Flat-Field Corrected Image | Ch: egfp, Exp: 500\n",
      "22-01-24 15:45:26 INFO     Stitching images | Ch: egfp, Exp: None, Overlap: 0.1, Rot: 0.35\n",
      "22-01-24 15:45:28 INFO     Flat-Field Corrected Image | Ch: egfp, Exp: 500\n",
      "22-01-24 15:45:29 INFO     Stitching images | Ch: egfp, Exp: None, Overlap: 0.1, Rot: 0.35\n",
      "22-01-24 15:45:31 INFO     Flat-Field Corrected Image | Ch: egfp, Exp: 500\n",
      "22-01-24 15:45:32 INFO     Stitching images | Ch: egfp, Exp: None, Overlap: 0.1, Rot: 0.35\n",
      "22-01-24 15:45:34 INFO     Flat-Field Corrected Image | Ch: egfp, Exp: 500\n",
      "22-01-24 15:45:34 INFO     Stitching images | Ch: egfp, Exp: None, Overlap: 0.1, Rot: 0.35\n",
      "22-01-24 15:45:37 INFO     Flat-Field Corrected Image | Ch: egfp, Exp: 500\n",
      "22-01-24 15:45:37 INFO     Stitching images | Ch: egfp, Exp: None, Overlap: 0.1, Rot: 0.35\n",
      "22-01-24 15:45:40 INFO     Flat-Field Corrected Image | Ch: egfp, Exp: 500\n",
      "22-01-24 15:45:40 INFO     Stitching images | Ch: egfp, Exp: None, Overlap: 0.1, Rot: 0.35\n",
      "22-01-24 15:45:42 INFO     Flat-Field Corrected Image | Ch: egfp, Exp: 500\n",
      "22-01-24 15:45:43 INFO     Stitching images | Ch: egfp, Exp: None, Overlap: 0.1, Rot: 0.35\n",
      "22-01-24 15:45:45 INFO     Flat-Field Corrected Image | Ch: egfp, Exp: 500\n",
      "22-01-24 15:45:46 INFO     Stitching images | Ch: egfp, Exp: None, Overlap: 0.1, Rot: 0.35\n",
      "22-01-24 15:45:48 INFO     Flat-Field Corrected Image | Ch: egfp, Exp: 500\n",
      "22-01-24 15:45:49 INFO     Stitching images | Ch: egfp, Exp: None, Overlap: 0.1, Rot: 0.35\n",
      "22-01-24 15:45:51 INFO     Flat-Field Corrected Image | Ch: egfp, Exp: 500\n",
      "22-01-24 15:45:51 INFO     Stitching images | Ch: egfp, Exp: None, Overlap: 0.1, Rot: 0.35\n",
      "22-01-24 15:45:54 INFO     Flat-Field Corrected Image | Ch: egfp, Exp: 500\n",
      "22-01-24 15:45:54 INFO     Stitching images | Ch: egfp, Exp: None, Overlap: 0.1, Rot: 0.35\n",
      "22-01-24 15:45:56 INFO     Flat-Field Corrected Image | Ch: egfp, Exp: 500\n",
      "22-01-24 15:45:57 INFO     Stitching images | Ch: egfp, Exp: None, Overlap: 0.1, Rot: 0.35\n",
      "22-01-24 15:45:59 INFO     Flat-Field Corrected Image | Ch: egfp, Exp: 500\n",
      "22-01-24 15:46:00 INFO     Stitching images | Ch: egfp, Exp: None, Overlap: 0.1, Rot: 0.35\n",
      "22-01-24 15:46:02 INFO     Flat-Field Corrected Image | Ch: egfp, Exp: 500\n",
      "22-01-24 15:46:03 INFO     Stitching images | Ch: egfp, Exp: None, Overlap: 0.1, Rot: 0.35\n",
      "22-01-24 15:46:05 INFO     Flat-Field Corrected Image | Ch: egfp, Exp: 500\n",
      "22-01-24 15:46:05 INFO     Stitching images | Ch: egfp, Exp: None, Overlap: 0.1, Rot: 0.35\n",
      "22-01-24 15:46:08 INFO     Flat-Field Corrected Image | Ch: egfp, Exp: 500\n",
      "22-01-24 15:46:08 INFO     Stitching images | Ch: cy5, Exp: None, Overlap: 0.1, Rot: 0.35\n",
      "22-01-24 15:46:18 INFO     Stitching images | Ch: cy5, Exp: None, Overlap: 0.1, Rot: 0.35\n",
      "22-01-24 15:46:23 INFO     Stitching images | Ch: egfp, Exp: None, Overlap: 0.1, Rot: 0.35\n",
      "22-01-24 15:46:25 INFO     Flat-Field Corrected Image | Ch: egfp, Exp: 500\n",
      "22-01-24 15:46:25 INFO     Stitching images | Ch: cy5, Exp: None, Overlap: 0.1, Rot: 0.35\n",
      "22-01-24 15:46:35 INFO     Stitching images | Ch: cy5, Exp: None, Overlap: 0.1, Rot: 0.35\n",
      "22-01-24 15:46:40 INFO     Stitching images | Ch: egfp, Exp: None, Overlap: 0.1, Rot: 0.35\n",
      "22-01-24 15:46:42 INFO     Flat-Field Corrected Image | Ch: egfp, Exp: 500\n",
      "22-01-24 15:46:43 INFO     Stitching images | Ch: cy5, Exp: None, Overlap: 0.1, Rot: 0.35\n",
      "22-01-24 15:46:52 INFO     Stitching images | Ch: cy5, Exp: None, Overlap: 0.1, Rot: 0.35\n",
      "22-01-24 15:46:57 INFO     Stitching images | Ch: egfp, Exp: None, Overlap: 0.1, Rot: 0.35\n",
      "22-01-24 15:46:59 INFO     Flat-Field Corrected Image | Ch: egfp, Exp: 500\n",
      "22-01-24 15:47:00 INFO     Stitching images | Ch: cy5, Exp: None, Overlap: 0.1, Rot: 0.35\n",
      "22-01-24 15:47:09 INFO     Stitching images | Ch: cy5, Exp: None, Overlap: 0.1, Rot: 0.35\n",
      "22-01-24 15:47:14 INFO     Stitching images | Ch: egfp, Exp: None, Overlap: 0.1, Rot: 0.35\n",
      "22-01-24 15:47:16 INFO     Flat-Field Corrected Image | Ch: egfp, Exp: 500\n",
      "22-01-24 15:47:17 INFO     Stitching images | Ch: cy5, Exp: None, Overlap: 0.1, Rot: 0.35\n",
      "22-01-24 15:47:26 INFO     Stitching images | Ch: cy5, Exp: None, Overlap: 0.1, Rot: 0.35\n",
      "22-01-24 15:47:31 INFO     Stitching images | Ch: egfp, Exp: None, Overlap: 0.1, Rot: 0.35\n",
      "22-01-24 15:47:33 INFO     Flat-Field Corrected Image | Ch: egfp, Exp: 500\n",
      "22-01-24 15:47:34 INFO     Stitching images | Ch: cy5, Exp: None, Overlap: 0.1, Rot: 0.35\n",
      "22-01-24 15:47:43 INFO     Stitching images | Ch: cy5, Exp: None, Overlap: 0.1, Rot: 0.35\n",
      "22-01-24 15:47:48 INFO     Stitching images | Ch: egfp, Exp: None, Overlap: 0.1, Rot: 0.35\n",
      "22-01-24 15:47:51 INFO     Flat-Field Corrected Image | Ch: egfp, Exp: 500\n",
      "22-01-24 15:47:51 INFO     Stitching images | Ch: cy5, Exp: None, Overlap: 0.1, Rot: 0.35\n",
      "22-01-24 15:47:56 INFO     Stitching images | Ch: egfp, Exp: None, Overlap: 0.1, Rot: 0.35\n",
      "22-01-24 15:47:58 INFO     Flat-Field Corrected Image | Ch: egfp, Exp: 500\n",
      "22-01-24 15:47:59 INFO     Stitching images | Ch: cy5, Exp: None, Overlap: 0.1, Rot: 0.35\n",
      "22-01-24 15:48:04 INFO     Stitching images | Ch: egfp, Exp: None, Overlap: 0.1, Rot: 0.35\n",
      "22-01-24 15:48:06 INFO     Flat-Field Corrected Image | Ch: egfp, Exp: 500\n"
     ]
    }
   ],
   "source": [
    "# TEST\n",
    "#expfolder = '/Volumes/PHS_DATA/PHS data/MITOMI/211206_CRTFhit_805expressiontest/'\n",
    "expfolder = '/Volumes/PHS_DATA/PHS data/MITOMI/220114_CRTFhit_805expressiontest/'\n",
    "\n",
    "p = stitcher.RasterParams(0.1, rotation = 0.35, autoFF = True)\n",
    "stitcher.walkAndStitch(expfolder, p, stitchtype = 'single')"
   ]
  },
  {
   "cell_type": "code",
   "execution_count": 23,
   "metadata": {
    "scrolled": true,
    "tags": []
   },
   "outputs": [
    {
     "name": "stdout",
     "output_type": "stream",
     "text": [
      "------------------ \n",
      "------------------ 20220114-211458-d1_expression_0.5hr\n",
      "--------------------- egfp\n",
      "------------------------ 20220114-211458_expression_0.5hr_egfp\n",
      "------------------------ StitchedImages\n",
      "20220114-211458-d1_expression_0.5hr_StitchedImg_500_egfp_0.tif\n",
      "------------------ 20220114-211645-d2_expression_0.5hr\n",
      "--------------------- egfp\n",
      "------------------------ 20220114-211645_expression_0.5hr_egfp\n",
      "------------------------ StitchedImages\n",
      "20220114-211645-d2_expression_0.5hr_StitchedImg_500_egfp_0.tif\n",
      "------------------ 20220114-213102-d1_expression_0.5hr_postreflowd2\n",
      "--------------------- egfp\n",
      "------------------------ 20220114-213102_expression_0.5hr_postreflowd2_egfp\n",
      "------------------------ StitchedImages\n",
      "20220114-213102-d1_expression_0.5hr_postreflowd2_StitchedImg_500_egfp_0.tif\n",
      "------------------ 20220114-213255-d2_expression_0.5hr_postreflowd2\n",
      "--------------------- egfp\n",
      "------------------------ 20220114-213255_expression_0.5hr_postreflowd2_egfp\n",
      "------------------------ StitchedImages\n",
      "20220114-213255-d2_expression_0.5hr_postreflowd2_StitchedImg_500_egfp_0.tif\n",
      "------------------ 20220114-235140-d1_expression_3hr\n",
      "--------------------- egfp\n",
      "------------------------ 20220114-235140_expression_0.5hr_postreflowd2_egfp\n",
      "------------------------ StitchedImages\n",
      "20220114-235140-d1_expression_3hr_StitchedImg_500_egfp_0.tif\n",
      "------------------ 20220114-235329-d2_expression_3hr\n",
      "--------------------- egfp\n",
      "------------------------ 20220114-235329_expression_0.5hr_postreflowd2_egfp\n",
      "------------------------ StitchedImages\n",
      "20220114-235329-d2_expression_3hr_StitchedImg_500_egfp_0.tif\n",
      "------------------ 20220115-122135-d1_expression_14hr\n",
      "--------------------- egfp\n",
      "------------------------ 20220115-122135_expression_14hr_egfp\n",
      "------------------------ StitchedImages\n",
      "20220115-122135-d1_expression_14hr_StitchedImg_500_egfp_0.tif\n",
      "------------------ 20220115-122323-d2_expression_14hr\n",
      "--------------------- egfp\n",
      "------------------------ 20220115-122323_expression_14hr_egfp\n",
      "------------------------ StitchedImages\n",
      "20220115-122323-d2_expression_14hr_StitchedImg_500_egfp_0.tif\n",
      "------------------ 20220115-142843-d1_expression_16hr_binding_0min\n",
      "--------------------- egfp\n",
      "------------------------ 20220115-142843_expression_16hr_binding_0min_egfp\n",
      "------------------------ StitchedImages\n",
      "20220115-142843-d1_expression_16hr_binding_0min_StitchedImg_500_egfp_0.tif\n",
      "------------------ 20220115-143032-d2_expression_16hr_binding_0min\n",
      "--------------------- egfp\n",
      "------------------------ 20220115-143032_expression_16hr_binding_0min_egfp\n",
      "------------------------ StitchedImages\n",
      "20220115-143032-d2_expression_16hr_binding_0min_StitchedImg_500_egfp_0.tif\n",
      "------------------ 20220115-145154-d1_expression_16hr_binding_20min\n",
      "--------------------- egfp\n",
      "------------------------ 20220115-145154_expression_16hr_binding_20min_egfp\n",
      "------------------------ StitchedImages\n",
      "20220115-145154-d1_expression_16hr_binding_20min_StitchedImg_500_egfp_0.tif\n",
      "------------------ 20220115-145341-d2_expression_16hr_binding_20min\n",
      "--------------------- egfp\n",
      "------------------------ 20220115-145341_expression_16hr_binding_20min_egfp\n",
      "------------------------ StitchedImages\n",
      "20220115-145341-d2_expression_16hr_binding_20min_StitchedImg_500_egfp_0.tif\n",
      "------------------ 20220115-151123-d1_expression_16hr_binding_40min\n",
      "--------------------- egfp\n",
      "------------------------ 20220115-151123_expression_16hr_binding_40min_egfp\n",
      "------------------------ StitchedImages\n",
      "20220115-151123-d1_expression_16hr_binding_40min_StitchedImg_500_egfp_0.tif\n",
      "------------------ 20220115-151311-d2_expression_16hr_binding_40min\n",
      "--------------------- egfp\n",
      "------------------------ 20220115-151311_expression_16hr_binding_40min_egfp\n",
      "------------------------ StitchedImages\n",
      "20220115-151311-d2_expression_16hr_binding_40min_StitchedImg_500_egfp_0.tif\n",
      "------------------ 20220115-152913-d1_expression_16hr_binding_60min\n",
      "--------------------- egfp\n",
      "------------------------ 20220115-152913_expression_16hr_binding_60min_egfp\n",
      "------------------------ StitchedImages\n",
      "20220115-152913-d1_expression_16hr_binding_60min_StitchedImg_500_egfp_0.tif\n",
      "------------------ 20220115-153102-d2_expression_16hr_binding_60min\n",
      "--------------------- egfp\n",
      "------------------------ 20220115-153102_expression_16hr_binding_60min_egfp\n",
      "------------------------ StitchedImages\n",
      "20220115-153102-d2_expression_16hr_binding_60min_StitchedImg_500_egfp_0.tif\n",
      "------------------ 20220115-165621-d1_preTrypLEwash_deadendfill\n",
      "--------------------- egfp\n",
      "------------------------ 20220115-165621_preTrypLEwash_deadendfill_egfp\n",
      "------------------------ StitchedImages\n",
      "20220115-165621-d1_preTrypLEwash_deadendfill_StitchedImg_500_egfp_0.tif\n",
      "------------------ 20220115-165811-d2_preTrypLEwash_deadendfill\n",
      "--------------------- egfp\n",
      "------------------------ 20220115-165811_preTrypLEwash_deadendfill_egfp\n",
      "------------------------ StitchedImages\n",
      "20220115-165811-d2_preTrypLEwash_deadendfill_StitchedImg_500_egfp_0.tif\n",
      "------------------ 20220115-182836-d1_postTrypLEwash\n",
      "--------------------- egfp\n",
      "------------------------ 20220115-182836_postTrypLEwash_egfp\n",
      "------------------------ StitchedImages\n",
      "20220115-182836-d1_postTrypLEwash_StitchedImg_500_egfp_0.tif\n",
      "------------------ 20220115-183022-d2_postTrypLEwash\n",
      "--------------------- egfp\n",
      "------------------------ 20220115-183022_postTrypLEwash_egfp\n",
      "------------------------ StitchedImages\n",
      "20220115-183022-d2_postTrypLEwash_StitchedImg_500_egfp_0.tif\n",
      "------------------ 20220115-183515-d1_P300-KIX-d1_P300-NCBD-d2_PreWash_Quant\n",
      "--------------------- cy5\n",
      "------------------------ 20220115-183515_P300-KIX-d1_P300-NCBD-d2_PreWash_Quant_cy5\n",
      "------------------------ StitchedImages\n",
      "20220115-183515-d1_P300-KIX-d1_P300-NCBD-d2_PreWash_Quant_StitchedImg_3000_cy5_0.tif\n",
      "20220115-183515-d1_P300-KIX-d1_P300-NCBD-d2_PreWash_Quant_StitchedImg_100_cy5_0.tif\n",
      "20220115-183515-d1_P300-KIX-d1_P300-NCBD-d2_PreWash_Quant_StitchedImg_500_cy5_0.tif\n",
      "20220115-183515-d1_P300-KIX-d1_P300-NCBD-d2_PreWash_Quant_StitchedImg_50_cy5_0.tif\n",
      "------------------ 20220115-184148-d1_P300-KIX-d1_P300-NCBD-d2_PostWash_Quant\n",
      "--------------------- cy5\n",
      "------------------------ 20220115-184148_P300-KIX-d1_P300-NCBD-d2_PostWash_Quant_cy5\n",
      "------------------------ StitchedImages\n",
      "20220115-184148-d1_P300-KIX-d1_P300-NCBD-d2_PostWash_Quant_StitchedImg_500_cy5_0.tif\n",
      "20220115-184148-d1_P300-KIX-d1_P300-NCBD-d2_PostWash_Quant_StitchedImg_3000_cy5_0.tif\n",
      "--------------------- egfp\n",
      "------------------------ 20220115-184148_P300-KIX-d1_P300-NCBD-d2_PostWash_Quant_egfp\n",
      "------------------------ StitchedImages\n",
      "20220115-184148-d1_P300-KIX-d1_P300-NCBD-d2_PostWash_Quant_StitchedImg_500_egfp_0.tif\n",
      "------------------ 20220115-195814-d1_P300-KIX-d1_P300-NCBD-d2_PreWash_Quant\n",
      "--------------------- cy5\n",
      "------------------------ 20220115-195814_P300-KIX-d1_P300-NCBD-d2_PreWash_Quant_cy5\n",
      "------------------------ StitchedImages\n",
      "20220115-195814-d1_P300-KIX-d1_P300-NCBD-d2_PreWash_Quant_StitchedImg_3000_cy5_0.tif\n",
      "20220115-195814-d1_P300-KIX-d1_P300-NCBD-d2_PreWash_Quant_StitchedImg_50_cy5_0.tif\n",
      "20220115-195814-d1_P300-KIX-d1_P300-NCBD-d2_PreWash_Quant_StitchedImg_500_cy5_0.tif\n",
      "20220115-195814-d1_P300-KIX-d1_P300-NCBD-d2_PreWash_Quant_StitchedImg_100_cy5_0.tif\n",
      "------------------ 20220115-201434-d1_P300-KIX-d1_P300-NCBD-d2_PostWash_Quant\n",
      "--------------------- cy5\n",
      "------------------------ 20220115-201434_P300-KIX-d1_P300-NCBD-d2_PostWash_Quant_cy5\n",
      "------------------------ StitchedImages\n",
      "20220115-201434-d1_P300-KIX-d1_P300-NCBD-d2_PostWash_Quant_StitchedImg_500_cy5_0.tif\n",
      "20220115-201434-d1_P300-KIX-d1_P300-NCBD-d2_PostWash_Quant_StitchedImg_3000_cy5_0.tif\n",
      "--------------------- egfp\n",
      "------------------------ 20220115-201434_P300-KIX-d1_P300-NCBD-d2_PostWash_Quant_egfp\n",
      "------------------------ StitchedImages\n",
      "20220115-201434-d1_P300-KIX-d1_P300-NCBD-d2_PostWash_Quant_StitchedImg_500_egfp_0.tif\n",
      "------------------ 20220115-212931-d1_P300-KIX-d1_P300-NCBD-d2_PreWash_Quant\n",
      "--------------------- cy5\n",
      "------------------------ 20220115-212931_P300-KIX-d1_P300-NCBD-d2_PreWash_Quant_cy5\n",
      "------------------------ StitchedImages\n",
      "20220115-212931-d1_P300-KIX-d1_P300-NCBD-d2_PreWash_Quant_StitchedImg_500_cy5_0.tif\n",
      "20220115-212931-d1_P300-KIX-d1_P300-NCBD-d2_PreWash_Quant_StitchedImg_3000_cy5_0.tif\n",
      "20220115-212931-d1_P300-KIX-d1_P300-NCBD-d2_PreWash_Quant_StitchedImg_50_cy5_0.tif\n",
      "20220115-212931-d1_P300-KIX-d1_P300-NCBD-d2_PreWash_Quant_StitchedImg_100_cy5_0.tif\n",
      "------------------ 20220115-214549-d1_P300-KIX-d1_P300-NCBD-d2_PostWash_Quant\n",
      "--------------------- cy5\n",
      "------------------------ 20220115-214549_P300-KIX-d1_P300-NCBD-d2_PostWash_Quant_cy5\n",
      "------------------------ StitchedImages\n",
      "20220115-214549-d1_P300-KIX-d1_P300-NCBD-d2_PostWash_Quant_StitchedImg_500_cy5_0.tif\n",
      "20220115-214549-d1_P300-KIX-d1_P300-NCBD-d2_PostWash_Quant_StitchedImg_3000_cy5_0.tif\n",
      "--------------------- egfp\n",
      "------------------------ 20220115-214549_P300-KIX-d1_P300-NCBD-d2_PostWash_Quant_egfp\n",
      "------------------------ StitchedImages\n",
      "20220115-214549-d1_P300-KIX-d1_P300-NCBD-d2_PostWash_Quant_StitchedImg_500_egfp_0.tif\n",
      "------------------ 20220115-230045-d1_P300-KIX-d1_P300-NCBD-d2_PreWash_Quant\n",
      "--------------------- cy5\n",
      "------------------------ 20220115-230045_P300-KIX-d1_P300-NCBD-d2_PreWash_Quant_cy5\n",
      "------------------------ StitchedImages\n",
      "20220115-230045-d1_P300-KIX-d1_P300-NCBD-d2_PreWash_Quant_StitchedImg_50_cy5_0.tif\n",
      "20220115-230045-d1_P300-KIX-d1_P300-NCBD-d2_PreWash_Quant_StitchedImg_100_cy5_0.tif\n",
      "20220115-230045-d1_P300-KIX-d1_P300-NCBD-d2_PreWash_Quant_StitchedImg_3000_cy5_0.tif\n",
      "20220115-230045-d1_P300-KIX-d1_P300-NCBD-d2_PreWash_Quant_StitchedImg_500_cy5_0.tif\n",
      "------------------ 20220115-231705-d1_P300-KIX-d1_P300-NCBD-d2_PostWash_Quant\n",
      "--------------------- cy5\n",
      "------------------------ 20220115-231705_P300-KIX-d1_P300-NCBD-d2_PostWash_Quant_cy5\n",
      "------------------------ StitchedImages\n",
      "20220115-231705-d1_P300-KIX-d1_P300-NCBD-d2_PostWash_Quant_StitchedImg_500_cy5_0.tif\n",
      "20220115-231705-d1_P300-KIX-d1_P300-NCBD-d2_PostWash_Quant_StitchedImg_3000_cy5_0.tif\n",
      "--------------------- egfp\n",
      "------------------------ 20220115-231705_P300-KIX-d1_P300-NCBD-d2_PostWash_Quant_egfp\n",
      "------------------------ StitchedImages\n",
      "20220115-231705-d1_P300-KIX-d1_P300-NCBD-d2_PostWash_Quant_StitchedImg_500_egfp_0.tif\n",
      "------------------ 20220116-003200-d1_P300-KIX-d1_P300-NCBD-d2_PreWash_Quant\n",
      "--------------------- cy5\n",
      "------------------------ 20220116-003200_P300-KIX-d1_P300-NCBD-d2_PreWash_Quant_cy5\n",
      "------------------------ StitchedImages\n",
      "20220116-003200-d1_P300-KIX-d1_P300-NCBD-d2_PreWash_Quant_StitchedImg_500_cy5_0.tif\n",
      "20220116-003200-d1_P300-KIX-d1_P300-NCBD-d2_PreWash_Quant_StitchedImg_3000_cy5_0.tif\n",
      "20220116-003200-d1_P300-KIX-d1_P300-NCBD-d2_PreWash_Quant_StitchedImg_100_cy5_0.tif\n",
      "20220116-003200-d1_P300-KIX-d1_P300-NCBD-d2_PreWash_Quant_StitchedImg_50_cy5_0.tif\n",
      "------------------ 20220116-004819-d1_P300-KIX-d1_P300-NCBD-d2_PostWash_Quant\n",
      "--------------------- cy5\n",
      "------------------------ 20220116-004819_P300-KIX-d1_P300-NCBD-d2_PostWash_Quant_cy5\n",
      "------------------------ StitchedImages\n",
      "20220116-004819-d1_P300-KIX-d1_P300-NCBD-d2_PostWash_Quant_StitchedImg_3000_cy5_0.tif\n",
      "20220116-004819-d1_P300-KIX-d1_P300-NCBD-d2_PostWash_Quant_StitchedImg_500_cy5_0.tif\n",
      "--------------------- egfp\n",
      "------------------------ 20220116-004819_P300-KIX-d1_P300-NCBD-d2_PostWash_Quant_egfp\n",
      "------------------------ StitchedImages\n",
      "20220116-004819-d1_P300-KIX-d1_P300-NCBD-d2_PostWash_Quant_StitchedImg_500_egfp_0.tif\n",
      "------------------ 20220116-020316-d1_P300-KIX-d1_P300-NCBD-d2_PreWash_Quant\n",
      "--------------------- cy5\n",
      "------------------------ 20220116-020316_P300-KIX-d1_P300-NCBD-d2_PreWash_Quant_cy5\n",
      "------------------------ StitchedImages\n",
      "20220116-020316-d1_P300-KIX-d1_P300-NCBD-d2_PreWash_Quant_StitchedImg_50_cy5_0.tif\n",
      "20220116-020316-d1_P300-KIX-d1_P300-NCBD-d2_PreWash_Quant_StitchedImg_100_cy5_0.tif\n",
      "20220116-020316-d1_P300-KIX-d1_P300-NCBD-d2_PreWash_Quant_StitchedImg_500_cy5_0.tif\n",
      "20220116-020316-d1_P300-KIX-d1_P300-NCBD-d2_PreWash_Quant_StitchedImg_3000_cy5_0.tif\n",
      "------------------ 20220116-021936-d1_P300-KIX-d1_P300-NCBD-d2_PostWash_Quant\n",
      "--------------------- cy5\n",
      "------------------------ 20220116-021936_P300-KIX-d1_P300-NCBD-d2_PostWash_Quant_cy5\n",
      "------------------------ StitchedImages\n",
      "20220116-021936-d1_P300-KIX-d1_P300-NCBD-d2_PostWash_Quant_StitchedImg_3000_cy5_0.tif\n",
      "20220116-021936-d1_P300-KIX-d1_P300-NCBD-d2_PostWash_Quant_StitchedImg_500_cy5_0.tif\n",
      "--------------------- egfp\n",
      "------------------------ 20220116-021936_P300-KIX-d1_P300-NCBD-d2_PostWash_Quant_egfp\n",
      "------------------------ StitchedImages\n",
      "20220116-021936-d1_P300-KIX-d1_P300-NCBD-d2_PostWash_Quant_StitchedImg_500_egfp_0.tif\n",
      "------------------ 20220116-022600-d1_PostWash_finalImages_manual\n",
      "--------------------- cy5\n",
      "------------------------ 20220116-022600_PostWash_finalImages_manual_cy5\n",
      "------------------------ StitchedImages\n",
      "20220116-022600-d1_PostWash_finalImages_manual_StitchedImg_3000_cy5_0.tif\n",
      "20220116-022600-d1_PostWash_finalImages_manual_StitchedImg_500_cy5_0.tif\n",
      "--------------------- egfp\n",
      "------------------------ 20220116-022600_PostWash_finalImages_manual_egfp\n",
      "------------------------ StitchedImages\n",
      "20220116-022600-d1_PostWash_finalImages_manual_StitchedImg_500_egfp_0.tif\n",
      "------------------ 20220116-023218-d2_PostWash_finalImages_manual\n",
      "--------------------- cy5\n",
      "------------------------ 20220116-023218_PostWash_finalImages_manual_cy5\n",
      "------------------------ StitchedImages\n",
      "20220116-023218-d2_PostWash_finalImages_manual_StitchedImg_500_cy5_0.tif\n",
      "20220116-023218-d2_PostWash_finalImages_manual_StitchedImg_3000_cy5_0.tif\n",
      "--------------------- egfp\n",
      "------------------------ 20220116-023218_PostWash_finalImages_manual_egfp\n",
      "------------------------ StitchedImages\n",
      "20220116-023218-d2_PostWash_finalImages_manual_StitchedImg_500_egfp_0.tif\n",
      "------------------ Stitched_Images\n",
      "------------------ Stitched_Images_test\n"
     ]
    }
   ],
   "source": [
    "# traverse root directory, and list directories as dirs and files as files\n",
    "# goal: move stitched images into single folder, named by root folder names \n",
    "\n",
    "#os.mkdir(expfolder + '/Stitched_Images_test')\n",
    "for root, dirs, files in os.walk(expfolder):\n",
    "    path = root.split(os.sep)\n",
    "    print((len(path) - 1) * '---', os.path.basename(root))\n",
    "    for file in files:\n",
    "        if os.path.basename(root) == 'StitchedImages':\n",
    "            if file.startswith('StitchedImg'):\n",
    "                newname = str(path[-3] + '_' + file) # rename file\n",
    "                shutil.copy('/'.join(path) + '/' + file, expfolder + '/Stitched_Images_test/' + newname) # copy file to new dir shutil.copy(old name, new name)\n",
    "                print(newname)"
   ]
  },
  {
   "cell_type": "markdown",
   "metadata": {},
   "source": [
    "<br>\n",
    "\n",
    "## C. Stitch Micro-Manager .ome.tiff images"
   ]
  },
  {
   "cell_type": "code",
   "execution_count": 4,
   "metadata": {},
   "outputs": [],
   "source": [
    "root = '/stack-parent'\n",
    "\n",
    "# Channel names from MicroManager configuration\n",
    "channelExposureMap = {'3-GFP-B': 500, '5------': 100}\n",
    "\n",
    "# Remap the names of the channels for saved filenames, if desired\n",
    "channelRemap = {'3-GFP-B': '3-GFP-B', '5------': 'Cy5'}\n",
    "\n",
    "p = stitcher.RasterParams(0.1, rotation = 0.0, autoFF = False)\n",
    "stitcher.MMStitchStacks(root,\n",
    "                        p,\n",
    "                        channelExposureMap, \n",
    "                        channelRemap = channelRemap\n",
    "                        )"
   ]
  },
  {
   "cell_type": "markdown",
   "metadata": {},
   "source": [
    "<br>\n",
    "\n",
    "## D. Background subtract"
   ]
  },
  {
   "cell_type": "markdown",
   "metadata": {},
   "source": [
    "#### Store Background images"
   ]
  },
  {
   "cell_type": "code",
   "execution_count": 19,
   "metadata": {},
   "outputs": [],
   "source": [
    "bg = stitcher.BackgroundImages()"
   ]
  },
  {
   "cell_type": "markdown",
   "metadata": {},
   "source": [
    "#### Define paths and add to the backgrounds"
   ]
  },
  {
   "cell_type": "code",
   "execution_count": 20,
   "metadata": {},
   "outputs": [],
   "source": [
    "# Reference Background Image\n",
    "backgroundsRootD1 = '~/StitchedImg_500_4egfp_0.tif'\n",
    "bg.add(backgroundsRootD1, 'd1', '4egfp', 500)"
   ]
  },
  {
   "cell_type": "markdown",
   "metadata": {},
   "source": [
    "#### Define target and execute"
   ]
  },
  {
   "cell_type": "code",
   "execution_count": 2,
   "metadata": {},
   "outputs": [],
   "source": [
    "target = '/root-path'\n",
    "bg.walkAndBGSubtract(target, 'd1', '4egfp')"
   ]
  }
 ],
 "metadata": {
  "kernelspec": {
   "display_name": "mitomi",
   "language": "python",
   "name": "mitomi"
  },
  "language_info": {
   "codemirror_mode": {
    "name": "ipython",
    "version": 3
   },
   "file_extension": ".py",
   "mimetype": "text/x-python",
   "name": "python",
   "nbconvert_exporter": "python",
   "pygments_lexer": "ipython3",
   "version": "3.7.10"
  }
 },
 "nbformat": 4,
 "nbformat_minor": 4
}
